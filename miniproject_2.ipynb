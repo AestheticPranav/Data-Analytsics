{
  "nbformat": 4,
  "nbformat_minor": 0,
  "metadata": {
    "colab": {
      "provenance": [],
      "mount_file_id": "1vq61qQL4PIUJ2dI6Go17rkjeIgXsDP14",
      "authorship_tag": "ABX9TyNxfGa6j+d3Y54C9FsJlHS7",
      "include_colab_link": true
    },
    "kernelspec": {
      "name": "python3",
      "display_name": "Python 3"
    },
    "language_info": {
      "name": "python"
    }
  },
  "cells": [
    {
      "cell_type": "markdown",
      "metadata": {
        "id": "view-in-github",
        "colab_type": "text"
      },
      "source": [
        "<a href=\"https://colab.research.google.com/github/AestheticPranav/Data-Analytsics/blob/main/miniproject_2.ipynb\" target=\"_parent\"><img src=\"https://colab.research.google.com/assets/colab-badge.svg\" alt=\"Open In Colab\"/></a>"
      ]
    },
    {
      "cell_type": "code",
      "execution_count": 2,
      "metadata": {
        "id": "2d6OKievWqvo"
      },
      "outputs": [],
      "source": [
        "import pandas as pd\n",
        "import matplotlib.pyplot as plt\n",
        "\n",
        "# Load the forest fire data\n",
        "df = pd.read_csv('/content/drive/MyDrive/Data Analytics/forestfires.csv')\n",
        "\n"
      ]
    },
    {
      "cell_type": "code",
      "source": [
        "# Q1: Top 10 maximum burnt areas with month\n",
        "top_burnt_area = df[['month', 'area']].nlargest(10, 'area')\n",
        "print(\"Top 10 maximum burnt areas by month:\\n\", top_burnt_area)\n",
        "\n",
        "\n"
      ],
      "metadata": {
        "colab": {
          "base_uri": "https://localhost:8080/"
        },
        "id": "Mj9dsqjGZgDV",
        "outputId": "810def75-6742-4492-8063-86513c99f58a"
      },
      "execution_count": 3,
      "outputs": [
        {
          "output_type": "stream",
          "name": "stdout",
          "text": [
            "Top 10 maximum burnt areas by month:\n",
            "     month     area\n",
            "238   sep  1090.84\n",
            "415   aug   746.28\n",
            "479   jul   278.53\n",
            "237   sep   212.88\n",
            "236   sep   200.94\n",
            "235   aug   196.48\n",
            "420   aug   185.76\n",
            "377   aug   174.63\n",
            "234   sep   154.88\n",
            "233   sep   105.66\n"
          ]
        }
      ]
    },
    {
      "cell_type": "code",
      "source": [
        "\n",
        "\n",
        "# Q2: Highest and lowest temperature for each month\n",
        "temp_stats = df.groupby('month')['temp'].agg(['max', 'min']).reset_index()\n",
        "temp_stats.columns = ['month', 'highest_temp', 'lowest_temp']\n",
        "print(\"\\nHighest and lowest temperatures for each month:\\n\", temp_stats)\n",
        "\n"
      ],
      "metadata": {
        "colab": {
          "base_uri": "https://localhost:8080/"
        },
        "id": "v52-lr7IZl0r",
        "outputId": "0f80b7a2-13e5-4be9-d3d6-20f0a6950dad"
      },
      "execution_count": 4,
      "outputs": [
        {
          "output_type": "stream",
          "name": "stdout",
          "text": [
            "\n",
            "Highest and lowest temperatures for each month:\n",
            "    month  highest_temp  lowest_temp\n",
            "0    apr          17.6          5.8\n",
            "1    aug          33.3          5.1\n",
            "2    dec           5.1          2.2\n",
            "3    feb          15.7          4.2\n",
            "4    jan           5.3          5.2\n",
            "5    jul          30.2         12.6\n",
            "6    jun          28.0         10.6\n",
            "7    mar          18.8          5.3\n",
            "8    may          18.0         11.3\n",
            "9    nov          11.8         11.8\n",
            "10   oct          21.7         11.3\n",
            "11   sep          30.2          9.8\n"
          ]
        }
      ]
    },
    {
      "cell_type": "code",
      "source": [
        "\n",
        "\n",
        "# Q3: Monthly highest and lowest wind speeds\n",
        "wind_stats = df.groupby('month')['wind'].agg(['max', 'min']).reset_index()\n",
        "wind_stats.columns = ['month', 'highest_wind', 'lowest_wind']\n",
        "print(\"\\nMonthly highest and lowest wind speeds:\\n\", wind_stats)\n",
        "\n"
      ],
      "metadata": {
        "colab": {
          "base_uri": "https://localhost:8080/"
        },
        "id": "NCuuzJCLZqPN",
        "outputId": "11efbf4a-a7b2-415b-8ff9-228f2a099a11"
      },
      "execution_count": 5,
      "outputs": [
        {
          "output_type": "stream",
          "name": "stdout",
          "text": [
            "\n",
            "Monthly highest and lowest wind speeds:\n",
            "    month  highest_wind  lowest_wind\n",
            "0    apr           9.4          1.8\n",
            "1    aug           8.9          0.4\n",
            "2    dec           8.5          4.9\n",
            "3    feb           9.4          0.9\n",
            "4    jan           3.1          0.9\n",
            "5    jul           8.0          0.9\n",
            "6    jun           9.4          1.3\n",
            "7    mar           9.4          0.9\n",
            "8    may           4.9          4.0\n",
            "9    nov           4.5          4.5\n",
            "10   oct           5.4          0.9\n",
            "11   sep           7.6          0.9\n"
          ]
        }
      ]
    },
    {
      "cell_type": "code",
      "source": [
        "\n",
        "# Q4: Highest and lowest relative humidity for each month\n",
        "humidity_stats = df.groupby('month')['RH'].agg(['max', 'min']).reset_index()\n",
        "humidity_stats.columns = ['month', 'highest_rh', 'lowest_rh']\n",
        "print(\"\\nHighest and lowest relative humidity for each month:\\n\", humidity_stats)\n",
        "\n"
      ],
      "metadata": {
        "colab": {
          "base_uri": "https://localhost:8080/"
        },
        "id": "ZbSTylgSZt7v",
        "outputId": "f0fc16d4-cca9-435a-fce3-c41bfba91e34"
      },
      "execution_count": 6,
      "outputs": [
        {
          "output_type": "stream",
          "name": "stdout",
          "text": [
            "\n",
            "Highest and lowest relative humidity for each month:\n",
            "    month  highest_rh  lowest_rh\n",
            "0    apr          75         20\n",
            "1    aug          96         19\n",
            "2    dec          61         21\n",
            "3    feb          82         35\n",
            "4    jan         100         78\n",
            "5    jul          90         22\n",
            "6    jun          90         25\n",
            "7    mar          99         18\n",
            "8    may          94         40\n",
            "9    nov          31         31\n",
            "10   oct          60         24\n",
            "11   sep          86         15\n"
          ]
        }
      ]
    },
    {
      "cell_type": "code",
      "source": [
        "\n",
        "\n",
        "# Q5: Join results from Q1-Q4\n",
        "merged_data = pd.merge(top_burnt_area, temp_stats, on='month', how='left')\n",
        "merged_data = pd.merge(merged_data, wind_stats, on='month', how='left')\n",
        "merged_data = pd.merge(merged_data, humidity_stats, on='month', how='left')\n",
        "print(\"\\nMerged data from Q1 to Q4:\\n\", merged_data)\n",
        "\n",
        "\n"
      ],
      "metadata": {
        "colab": {
          "base_uri": "https://localhost:8080/"
        },
        "id": "WEaV5JljZyqR",
        "outputId": "fc80efa2-5274-45d3-d7ab-bf7eef2dbb5d"
      },
      "execution_count": 7,
      "outputs": [
        {
          "output_type": "stream",
          "name": "stdout",
          "text": [
            "\n",
            "Merged data from Q1 to Q4:\n",
            "   month     area  highest_temp  lowest_temp  highest_wind  lowest_wind  \\\n",
            "0   sep  1090.84          30.2          9.8           7.6          0.9   \n",
            "1   aug   746.28          33.3          5.1           8.9          0.4   \n",
            "2   jul   278.53          30.2         12.6           8.0          0.9   \n",
            "3   sep   212.88          30.2          9.8           7.6          0.9   \n",
            "4   sep   200.94          30.2          9.8           7.6          0.9   \n",
            "5   aug   196.48          33.3          5.1           8.9          0.4   \n",
            "6   aug   185.76          33.3          5.1           8.9          0.4   \n",
            "7   aug   174.63          33.3          5.1           8.9          0.4   \n",
            "8   sep   154.88          30.2          9.8           7.6          0.9   \n",
            "9   sep   105.66          30.2          9.8           7.6          0.9   \n",
            "\n",
            "   highest_rh  lowest_rh  \n",
            "0          86         15  \n",
            "1          96         19  \n",
            "2          90         22  \n",
            "3          86         15  \n",
            "4          86         15  \n",
            "5          96         19  \n",
            "6          96         19  \n",
            "7          96         19  \n",
            "8          86         15  \n",
            "9          86         15  \n"
          ]
        }
      ]
    },
    {
      "cell_type": "code",
      "source": [
        "# Q6: Plotting a grouped bar chart\n",
        "import numpy as np\n",
        "\n",
        "fig, ax = plt.subplots(figsize=(10, 6))\n",
        "x = np.arange(len(merged_data['month']))\n",
        "width = 0.2\n",
        "\n",
        "bar1 = ax.bar(x - width, merged_data['highest_temp'], width, label='Highest Temp')\n",
        "bar2 = ax.bar(x, merged_data['highest_wind'], width, label='Highest Wind')\n",
        "bar3 = ax.bar(x + width, merged_data['highest_rh'], width, label='Highest RH')\n",
        "\n",
        "ax.set_xlabel('Month')\n",
        "ax.set_ylabel('Values')\n",
        "ax.set_title('Monthly Comparison of Temperature, Wind, and Humidity')\n",
        "ax.set_xticks(x)\n",
        "ax.set_xticklabels(merged_data['month'])\n",
        "ax.legend()\n",
        "\n",
        "plt.show()"
      ],
      "metadata": {
        "colab": {
          "base_uri": "https://localhost:8080/",
          "height": 564
        },
        "id": "FMVOqj3HZ4eb",
        "outputId": "f2a09bbd-ea9d-479f-8520-bccc836fe626"
      },
      "execution_count": 8,
      "outputs": [
        {
          "output_type": "display_data",
          "data": {
            "text/plain": [
              "<Figure size 1000x600 with 1 Axes>"
            ],
            "image/png": "[encoded data removed]"
          },
          "metadata": {}
        }
      ]
    },
    {
      "cell_type": "code",
      "source": [
        "\n",
        "employee_data = {\n",
        "    'emp_id': [1, 2, 3, 4, 5, 6, 7],\n",
        "    'department': ['sales', 'sales', 'sales', 'sales', 'marketing', 'marketing', 'marketing'],\n",
        "    'salary': [100, 120, 145, 140, 100, 150, 250]\n",
        "}\n",
        "not_active_data = {\n",
        "    'emp_id': [3, 7]  # Sample inactive employees\n",
        "}\n",
        "\n",
        "employee_df = pd.DataFrame(employee_data)\n",
        "not_active_df = pd.DataFrame(not_active_data)\n",
        "\n",
        "# Q1: Maximum salary for each department (only active employees)\n",
        "active_employees = employee_df[~employee_df['emp_id'].isin(not_active_df['emp_id'])]\n",
        "max_salary_by_dept = active_employees.groupby('department')['salary'].max().reset_index()\n",
        "max_salary_by_dept.columns = ['department', 'max_salary']\n",
        "print(\"\\nMax salary for each department (only active employees):\\n\", max_salary_by_dept)\n",
        "\n"
      ],
      "metadata": {
        "colab": {
          "base_uri": "https://localhost:8080/"
        },
        "id": "x7iHLhG0bOcF",
        "outputId": "3f3011db-1b76-4d50-f82b-d674a2269f68"
      },
      "execution_count": 11,
      "outputs": [
        {
          "output_type": "stream",
          "name": "stdout",
          "text": [
            "\n",
            "Max salary for each department (only active employees):\n",
            "   department  max_salary\n",
            "0  marketing         150\n",
            "1      sales         140\n"
          ]
        }
      ]
    },
    {
      "cell_type": "code",
      "source": [
        "# Q2: All employees with department max salary\n",
        "all_employees = employee_df.merge(max_salary_by_dept, on='department', suffixes=('', '_max'))\n",
        "print(\"\\nAll employees with department max salary:\\n\", all_employees)\n"
      ],
      "metadata": {
        "colab": {
          "base_uri": "https://localhost:8080/"
        },
        "id": "f73wW6F_blLF",
        "outputId": "dbda458b-b2e2-4d78-8989-6477d970f5d0"
      },
      "execution_count": 12,
      "outputs": [
        {
          "output_type": "stream",
          "name": "stdout",
          "text": [
            "\n",
            "All employees with department max salary:\n",
            "    emp_id department  salary  max_salary\n",
            "0       1      sales     100         140\n",
            "1       2      sales     120         140\n",
            "2       3      sales     145         140\n",
            "3       4      sales     140         140\n",
            "4       5  marketing     100         150\n",
            "5       6  marketing     150         150\n",
            "6       7  marketing     250         150\n"
          ]
        }
      ]
    }
  ]
}