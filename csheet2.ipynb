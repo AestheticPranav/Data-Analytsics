{
  "nbformat": 4,
  "nbformat_minor": 0,
  "metadata": {
    "colab": {
      "provenance": [],
      "authorship_tag": "ABX9TyPw9GyWaLNr/TVX4Am9i+Z7",
      "include_colab_link": true
    },
    "kernelspec": {
      "name": "python3",
      "display_name": "Python 3"
    },
    "language_info": {
      "name": "python"
    }
  },
  "cells": [
    {
      "cell_type": "markdown",
      "metadata": {
        "id": "view-in-github",
        "colab_type": "text"
      },
      "source": [
        "<a href=\"https://colab.research.google.com/github/AestheticPranav/Data-Analytsics/blob/main/csheet2.ipynb\" target=\"_parent\"><img src=\"https://colab.research.google.com/assets/colab-badge.svg\" alt=\"Open In Colab\"/></a>"
      ]
    },
    {
      "cell_type": "code",
      "execution_count": 1,
      "metadata": {
        "id": "LyqwmGivGiMf"
      },
      "outputs": [],
      "source": [
        "# import all necessary lib\n",
        "\n",
        "import pandas as pd\n",
        "from tabulate import tabulate\n",
        "import traceback\n",
        "import numpy as np\n",
        "import matplotlib.pyplot as plt\n",
        "from requests import get\n",
        "import requests\n",
        "import os\n",
        "import csv"
      ]
    },
    {
      "cell_type": "code",
      "source": [
        "#list\n",
        "\n",
        "lst_names = []\n",
        "lst_cities = [\"Banglore\", \"Chennai\", \"SFO\", \"beijing\"]\n",
        "lst_cities.append(\"NYC\")\n",
        "lst_age = [10, 20]\n",
        "lst_age.append(30)\n",
        "for val in lst_cities:\n",
        "  print(val)\n",
        "if \"SFO\" in lst_cities:\n",
        "  print(\"yes\")\n",
        "else:\n",
        "  print(\"no\")"
      ],
      "metadata": {
        "colab": {
          "base_uri": "https://localhost:8080/"
        },
        "id": "eTWCo--uI_KI",
        "outputId": "48f14d86-e3cc-4437-b5dd-f50a06668f55"
      },
      "execution_count": 2,
      "outputs": [
        {
          "output_type": "stream",
          "name": "stdout",
          "text": [
            "Banglore\n",
            "Chennai\n",
            "SFO\n",
            "beijing\n",
            "NYC\n",
            "yes\n"
          ]
        }
      ]
    },
    {
      "cell_type": "code",
      "source": [
        " #Iterate list values along with index\n",
        "\n",
        "lst_pets = [\"dog\", \"cat\"]\n",
        "for i, value in enumerate(lst_pets):\n",
        "    print(f\"At index {i}, the value in the list is {value}\")"
      ],
      "metadata": {
        "colab": {
          "base_uri": "https://localhost:8080/"
        },
        "id": "1Tr4hyirJPjj",
        "outputId": "e7651845-a4fc-495a-cfe2-a585ccba24f6"
      },
      "execution_count": 3,
      "outputs": [
        {
          "output_type": "stream",
          "name": "stdout",
          "text": [
            "At index 0, the value in the list is dog\n",
            "At index 1, the value in the list is cat\n"
          ]
        }
      ]
    },
    {
      "cell_type": "code",
      "source": [
        "#set\n",
        "\n",
        "# empty set\n",
        "set_names = ()\n",
        "# Set with some string values in it\n",
        "set_cities = [\"Bangalore\", \"Chennai\", \"SFO\", \"Beijing\"]\n",
        "# append to existing list\n",
        "set_cities.append(\"NYC\")\n",
        "# list with some integer values\n",
        "set_age = [10, 20]\n",
        "# append an integer to the existing list\n",
        "set_age.append(30)\n",
        "print(set_cities)\n",
        "print(set_age)\n"
      ],
      "metadata": {
        "colab": {
          "base_uri": "https://localhost:8080/"
        },
        "id": "IzhNBVhVMUDB",
        "outputId": "4f47ae41-fa07-4484-f7d4-5f56ba3ec6b8"
      },
      "execution_count": 4,
      "outputs": [
        {
          "output_type": "stream",
          "name": "stdout",
          "text": [
            "['Bangalore', 'Chennai', 'SFO', 'Beijing', 'NYC']\n",
            "[10, 20, 30]\n"
          ]
        }
      ]
    },
    {
      "cell_type": "code",
      "source": [
        "# Declare dictionary\n",
        "dict_data = {}\n",
        "\n",
        "# Insert an empty list into the dictionary\n",
        "dict_data['pet'] = []\n",
        "\n",
        "# Append/add a list of dict to the list\n",
        "dict_data['pet'].append({\n",
        "   'name': 'Dog',\n",
        "   'website': 'dog.com',\n",
        "   'from': 'San Francisco'\n",
        "})\n",
        "dict_data['pet'].append({\n",
        "   'name': 'Cat',\n",
        "   'website': 'hellokitty.com',\n",
        "   'from': 'Seattle'\n",
        "})\n",
        "\n",
        "# Print the dictionary\n",
        "print(dict_data)\n"
      ],
      "metadata": {
        "colab": {
          "base_uri": "https://localhost:8080/"
        },
        "id": "xB1Sq_elMgdV",
        "outputId": "6f17feb7-2dfb-4be1-b246-04103e0f08db"
      },
      "execution_count": 6,
      "outputs": [
        {
          "output_type": "stream",
          "name": "stdout",
          "text": [
            "{'pet': [{'name': 'Dog', 'website': 'dog.com', 'from': 'San Francisco'}, {'name': 'Cat', 'website': 'hellokitty.com', 'from': 'Seattle'}]}\n"
          ]
        }
      ]
    },
    {
      "cell_type": "code",
      "source": [
        "# List having different pet types\n",
        "lst_pet_types = [\"cat\", \"dog\", \"horse\"]\n",
        "# Returns number of elements in the list\n",
        "c_pet_types = len(lst_pet_types)\n",
        "# Prints 3\n",
        "print(f\"# pet types: {c_pet_types}\")\n",
        "\n",
        "# Using len() for dictionary\n",
        "dict_pets = {\"name\": \"dog\", \"age\": 2}\n",
        "# Returns number of keys in the dictionary\n",
        "c_pets = len(dict_pets)\n",
        "# Prints 2\n",
        "print(f\"# pets: {c_pets}\")\n",
        "\n",
        "# Corrected dictionary structure\n",
        "dict_pets = {\"pets\": [{\"name\": \"dog\", \"age\": 2}, {\"name\": \"dog\", \"age\": 2}]}\n",
        "dict_p_h = {\"pets\": [{\"name\": \"dog\", \"age\": 2}, {\"name\": \"dog\", \"age\": 2}],\n",
        "            \"persons\": [{\"name\": \"ram\", \"age\": 12}, {\"name\": \"kumaran\", \"age\": 11}]}\n",
        "\n",
        "# Returns number of keys in the dictionary\n",
        "c_pets, c_humans = len(dict_pets), len(dict_p_h)\n",
        "# Prints 1 for pets and 2 for humans\n",
        "print(f\"# pets: {c_pets} ; # humans: {c_humans}\")\n",
        "\n",
        "# Get only keys from the dictionary\n",
        "lst_keys = list(dict_p_h.keys())\n",
        "# Get only values from the dictionary\n",
        "lst_values = list(dict_p_h.values())\n",
        "\n",
        "# Prints number of keys and values\n",
        "print(f\"# keys: {len(lst_keys)} | # values: {len(lst_values)}\")\n",
        "print(f\"keys: {lst_keys} | values: {lst_values}\")\n"
      ],
      "metadata": {
        "colab": {
          "base_uri": "https://localhost:8080/"
        },
        "id": "LhV857u6NVFK",
        "outputId": "8c6ce9de-32cb-4837-a1f5-cd462f1f56f0"
      },
      "execution_count": 7,
      "outputs": [
        {
          "output_type": "stream",
          "name": "stdout",
          "text": [
            "# pet types: 3\n",
            "# pets: 2\n",
            "# pets: 1 ; # humans: 2\n",
            "# keys: 2 | # values: 2\n",
            "keys: ['pets', 'persons'] | values: [[{'name': 'dog', 'age': 2}, {'name': 'dog', 'age': 2}], [{'name': 'ram', 'age': 12}, {'name': 'kumaran', 'age': 11}]]\n"
          ]
        }
      ]
    },
    {
      "cell_type": "code",
      "source": [
        "import pandas as pd\n",
        "\n",
        "# Create DataFrame from the dictionary\n",
        "df = pd.DataFrame(dict_p_h)\n",
        "\n",
        "# Print the original column names\n",
        "print(df.columns)\n",
        "\n",
        "# Access and print each column individually\n",
        "for col in df.columns:\n",
        "    print(col)\n",
        "\n",
        "# Assign new names to df.columns\n",
        "df.columns = ['Animals', 'Humans']\n",
        "\n",
        "# Print the new column names\n",
        "print(df.columns)\n",
        "\n",
        "# Convert dictionaries in the DataFrame to strings for better display\n",
        "df = df.applymap(str)\n",
        "\n",
        "# Print the updated DataFrame\n",
        "print(df)\n"
      ],
      "metadata": {
        "colab": {
          "base_uri": "https://localhost:8080/"
        },
        "id": "7_1heVuTN3Uy",
        "outputId": "e65903fe-294b-485f-bf2c-4c80e940af0f"
      },
      "execution_count": 8,
      "outputs": [
        {
          "output_type": "stream",
          "name": "stdout",
          "text": [
            "Index(['pets', 'persons'], dtype='object')\n",
            "pets\n",
            "persons\n",
            "Index(['Animals', 'Humans'], dtype='object')\n",
            "                     Animals                          Humans\n",
            "0  {'name': 'dog', 'age': 2}      {'name': 'ram', 'age': 12}\n",
            "1  {'name': 'dog', 'age': 2}  {'name': 'kumaran', 'age': 11}\n"
          ]
        },
        {
          "output_type": "stream",
          "name": "stderr",
          "text": [
            "<ipython-input-8-aaca85f41c0c>:20: FutureWarning: DataFrame.applymap has been deprecated. Use DataFrame.map instead.\n",
            "  df = df.applymap(str)\n"
          ]
        }
      ]
    },
    {
      "cell_type": "code",
      "source": [
        "# Delete the 'Animals' column\n",
        "df = df.drop(columns=['Animals'])\n",
        "\n",
        "# Print the updated DataFrame\n",
        "print(df)\n"
      ],
      "metadata": {
        "colab": {
          "base_uri": "https://localhost:8080/"
        },
        "id": "mQ668G6aOXHt",
        "outputId": "82059e39-6065-4ab2-b0f3-3f460bfae2d9"
      },
      "execution_count": 9,
      "outputs": [
        {
          "output_type": "stream",
          "name": "stdout",
          "text": [
            "                           Humans\n",
            "0      {'name': 'ram', 'age': 12}\n",
            "1  {'name': 'kumaran', 'age': 11}\n"
          ]
        }
      ]
    },
    {
      "cell_type": "code",
      "source": [
        "# Use strip() to remove leading and trailing spaces\n",
        "txt = \"     Moscow      \"\n",
        "str_clean = txt.strip()\n",
        "\n",
        "# Print the result with the corrected sentence\n",
        "print(f\"From weather report, {str_clean} is too cold most of the times\")\n"
      ],
      "metadata": {
        "colab": {
          "base_uri": "https://localhost:8080/"
        },
        "id": "py1vcrZwO-Vr",
        "outputId": "cb20ad5a-c1cf-401f-d93b-97b9d273aa65"
      },
      "execution_count": 10,
      "outputs": [
        {
          "output_type": "stream",
          "name": "stdout",
          "text": [
            "From weather report, Moscow is too cold most of the times\n"
          ]
        }
      ]
    },
    {
      "cell_type": "code",
      "source": [
        "# List of items\n",
        "lst_items = ['rambo', 'dog', 'chennai']\n",
        "\n",
        "# Join the list items into a string separated by commas\n",
        "st = ','.join(lst_items)\n",
        "\n",
        "# Print the joined string\n",
        "print(st)\n",
        "\n",
        "# Print the original list\n",
        "print(lst_items)\n"
      ],
      "metadata": {
        "colab": {
          "base_uri": "https://localhost:8080/"
        },
        "id": "zd4sWE3APAXz",
        "outputId": "f2d09ec7-d354-4533-d2e3-57007c342343"
      },
      "execution_count": 11,
      "outputs": [
        {
          "output_type": "stream",
          "name": "stdout",
          "text": [
            "rambo,dog,chennai\n",
            "['rambo', 'dog', 'chennai']\n"
          ]
        }
      ]
    },
    {
      "cell_type": "code",
      "source": [
        "import pandas as pd\n",
        "\n",
        "# Example DataFrame\n",
        "data = {\n",
        "    'Name': ['Alice', 'Bob', 'Charlie', 'David', 'Emily', 'Frank', 'Grace', 'Hannah', 'Ivy', 'Jack'],\n",
        "    'Age': [25, 30, 35, 28, 32, 27, 31, 29, 26, 33],\n",
        "    'City': ['New York', 'Los Angeles', 'Chicago', 'Houston', 'Phoenix', 'Philadelphia', 'San Antonio', 'San Diego', 'Dallas', 'San Jose']\n",
        "}\n",
        "\n",
        "# Create DataFrame\n",
        "df = pd.DataFrame(data)\n",
        "\n",
        "# Print the first 9 rows of the DataFrame\n",
        "print(df.head(9))\n"
      ],
      "metadata": {
        "colab": {
          "base_uri": "https://localhost:8080/"
        },
        "id": "l6GhFWWaPLV7",
        "outputId": "3677c22d-e993-4427-b051-9458bc1699d3"
      },
      "execution_count": 12,
      "outputs": [
        {
          "output_type": "stream",
          "name": "stdout",
          "text": [
            "      Name  Age          City\n",
            "0    Alice   25      New York\n",
            "1      Bob   30   Los Angeles\n",
            "2  Charlie   35       Chicago\n",
            "3    David   28       Houston\n",
            "4    Emily   32       Phoenix\n",
            "5    Frank   27  Philadelphia\n",
            "6    Grace   31   San Antonio\n",
            "7   Hannah   29     San Diego\n",
            "8      Ivy   26        Dallas\n"
          ]
        }
      ]
    },
    {
      "cell_type": "code",
      "source": [
        "print(df.shape)"
      ],
      "metadata": {
        "colab": {
          "base_uri": "https://localhost:8080/"
        },
        "id": "V1eTQWMsPhd7",
        "outputId": "99440dab-7195-4720-c5ba-1c10451fb892"
      },
      "execution_count": 13,
      "outputs": [
        {
          "output_type": "stream",
          "name": "stdout",
          "text": [
            "(10, 3)\n"
          ]
        }
      ]
    },
    {
      "cell_type": "code",
      "source": [
        "print(list(df))"
      ],
      "metadata": {
        "colab": {
          "base_uri": "https://localhost:8080/"
        },
        "id": "VYqS25UcPmi7",
        "outputId": "e1775fd6-1ed7-407e-d2de-62c65b43cc7c"
      },
      "execution_count": 14,
      "outputs": [
        {
          "output_type": "stream",
          "name": "stdout",
          "text": [
            "['Name', 'Age', 'City']\n"
          ]
        }
      ]
    },
    {
      "cell_type": "code",
      "source": [
        "print(df.dtypes)"
      ],
      "metadata": {
        "colab": {
          "base_uri": "https://localhost:8080/"
        },
        "id": "wcx9f2OdPn1b",
        "outputId": "7ffb8125-0033-4163-cad1-215baf0f27ce"
      },
      "execution_count": 15,
      "outputs": [
        {
          "output_type": "stream",
          "name": "stdout",
          "text": [
            "Name    object\n",
            "Age      int64\n",
            "City    object\n",
            "dtype: object\n"
          ]
        }
      ]
    },
    {
      "cell_type": "code",
      "source": [
        "print(df.describe(include='all'))"
      ],
      "metadata": {
        "colab": {
          "base_uri": "https://localhost:8080/"
        },
        "id": "jc-AS_d2Puj7",
        "outputId": "ce9841a9-0d01-46bf-870e-fd5c1a151017"
      },
      "execution_count": 16,
      "outputs": [
        {
          "output_type": "stream",
          "name": "stdout",
          "text": [
            "         Name        Age      City\n",
            "count      10  10.000000        10\n",
            "unique     10        NaN        10\n",
            "top     Alice        NaN  New York\n",
            "freq        1        NaN         1\n",
            "mean      NaN  29.600000       NaN\n",
            "std       NaN   3.204164       NaN\n",
            "min       NaN  25.000000       NaN\n",
            "25%       NaN  27.250000       NaN\n",
            "50%       NaN  29.500000       NaN\n",
            "75%       NaN  31.750000       NaN\n",
            "max       NaN  35.000000       NaN\n"
          ]
        }
      ]
    },
    {
      "cell_type": "code",
      "source": [
        "from tabulate import tabulate\n",
        "# custom function for pretty print\n",
        "def pretty_print(title, df, n):\n",
        "   print(f\"\\n{title}:\")\n",
        "   print(tabulate(df.head(n), headers=\"keys\", tablefmt=\"psql\"))"
      ],
      "metadata": {
        "id": "02QaEmZAP1_L"
      },
      "execution_count": 17,
      "outputs": []
    },
    {
      "cell_type": "code",
      "source": [
        "pretty_print(\"Sample DataFrame\", df, 9)"
      ],
      "metadata": {
        "colab": {
          "base_uri": "https://localhost:8080/"
        },
        "id": "3e6Me-_wP4Vz",
        "outputId": "955093b3-a2b5-4983-d1e0-7536925daf96"
      },
      "execution_count": 18,
      "outputs": [
        {
          "output_type": "stream",
          "name": "stdout",
          "text": [
            "\n",
            "Sample DataFrame:\n",
            "+----+---------+-------+--------------+\n",
            "|    | Name    |   Age | City         |\n",
            "|----+---------+-------+--------------|\n",
            "|  0 | Alice   |    25 | New York     |\n",
            "|  1 | Bob     |    30 | Los Angeles  |\n",
            "|  2 | Charlie |    35 | Chicago      |\n",
            "|  3 | David   |    28 | Houston      |\n",
            "|  4 | Emily   |    32 | Phoenix      |\n",
            "|  5 | Frank   |    27 | Philadelphia |\n",
            "|  6 | Grace   |    31 | San Antonio  |\n",
            "|  7 | Hannah  |    29 | San Diego    |\n",
            "|  8 | Ivy     |    26 | Dallas       |\n",
            "+----+---------+-------+--------------+\n"
          ]
        }
      ]
    },
    {
      "cell_type": "code",
      "source": [
        "lst_age = df[\"Age\"].unique()\n",
        "# also works\n",
        "lst_age = df.Age.unique()\n",
        "\n",
        "print(lst_age)"
      ],
      "metadata": {
        "colab": {
          "base_uri": "https://localhost:8080/"
        },
        "id": "GufqxQ0cP81j",
        "outputId": "380d053c-e1e0-4e4a-d692-87e89778c9f9"
      },
      "execution_count": 19,
      "outputs": [
        {
          "output_type": "stream",
          "name": "stdout",
          "text": [
            "[25 30 35 28 32 27 31 29 26 33]\n"
          ]
        }
      ]
    },
    {
      "cell_type": "code",
      "source": [
        "df[\"Age\"].value_counts"
      ],
      "metadata": {
        "colab": {
          "base_uri": "https://localhost:8080/",
          "height": 203
        },
        "id": "tsYb0sJYQi9S",
        "outputId": "a95a894c-c179-45e3-e406-78333f240189"
      },
      "execution_count": 20,
      "outputs": [
        {
          "output_type": "execute_result",
          "data": {
            "text/plain": [
              "<bound method IndexOpsMixin.value_counts of 0    25\n",
              "1    30\n",
              "2    35\n",
              "3    28\n",
              "4    32\n",
              "5    27\n",
              "6    31\n",
              "7    29\n",
              "8    26\n",
              "9    33\n",
              "Name: Age, dtype: int64>"
            ],
            "text/html": [
              "<div style=\"max-width:800px; border: 1px solid var(--colab-border-color);\"><style>\n",
              "      pre.function-repr-contents {\n",
              "        overflow-x: auto;\n",
              "        padding: 8px 12px;\n",
              "        max-height: 500px;\n",
              "      }\n",
              "\n",
              "      pre.function-repr-contents.function-repr-contents-collapsed {\n",
              "        cursor: pointer;\n",
              "        max-height: 100px;\n",
              "      }\n",
              "    </style>\n",
              "    <pre style=\"white-space: initial; background:\n",
              "         var(--colab-secondary-surface-color); padding: 8px 12px;\n",
              "         border-bottom: 1px solid var(--colab-border-color);\"><b>pandas.core.base.IndexOpsMixin.value_counts</b><br/>def value_counts(normalize: bool=False, sort: bool=True, ascending: bool=False, bins=None, dropna: bool=True) -&gt; Series</pre><pre class=\"function-repr-contents function-repr-contents-collapsed\" style=\"\"><a class=\"filepath\" style=\"display:none\" href=\"#\">/usr/local/lib/python3.10/dist-packages/pandas/core/base.py</a>Return a Series containing counts of unique values.\n",
              "\n",
              "The resulting object will be in descending order so that the\n",
              "first element is the most frequently-occurring element.\n",
              "Excludes NA values by default.\n",
              "\n",
              "Parameters\n",
              "----------\n",
              "normalize : bool, default False\n",
              "    If True then the object returned will contain the relative\n",
              "    frequencies of the unique values.\n",
              "sort : bool, default True\n",
              "    Sort by frequencies when True. Preserve the order of the data when False.\n",
              "ascending : bool, default False\n",
              "    Sort in ascending order.\n",
              "bins : int, optional\n",
              "    Rather than count values, group them into half-open bins,\n",
              "    a convenience for ``pd.cut``, only works with numeric data.\n",
              "dropna : bool, default True\n",
              "    Don&#x27;t include counts of NaN.\n",
              "\n",
              "Returns\n",
              "-------\n",
              "Series\n",
              "\n",
              "See Also\n",
              "--------\n",
              "Series.count: Number of non-NA elements in a Series.\n",
              "DataFrame.count: Number of non-NA elements in a DataFrame.\n",
              "DataFrame.value_counts: Equivalent method on DataFrames.\n",
              "\n",
              "Examples\n",
              "--------\n",
              "&gt;&gt;&gt; index = pd.Index([3, 1, 2, 3, 4, np.nan])\n",
              "&gt;&gt;&gt; index.value_counts()\n",
              "3.0    2\n",
              "1.0    1\n",
              "2.0    1\n",
              "4.0    1\n",
              "Name: count, dtype: int64\n",
              "\n",
              "With `normalize` set to `True`, returns the relative frequency by\n",
              "dividing all values by the sum of values.\n",
              "\n",
              "&gt;&gt;&gt; s = pd.Series([3, 1, 2, 3, 4, np.nan])\n",
              "&gt;&gt;&gt; s.value_counts(normalize=True)\n",
              "3.0    0.4\n",
              "1.0    0.2\n",
              "2.0    0.2\n",
              "4.0    0.2\n",
              "Name: proportion, dtype: float64\n",
              "\n",
              "**bins**\n",
              "\n",
              "Bins can be useful for going from a continuous variable to a\n",
              "categorical variable; instead of counting unique\n",
              "apparitions of values, divide the index in the specified\n",
              "number of half-open bins.\n",
              "\n",
              "&gt;&gt;&gt; s.value_counts(bins=3)\n",
              "(0.996, 2.0]    2\n",
              "(2.0, 3.0]      2\n",
              "(3.0, 4.0]      1\n",
              "Name: count, dtype: int64\n",
              "\n",
              "**dropna**\n",
              "\n",
              "With `dropna` set to `False` we can also see NaN index values.\n",
              "\n",
              "&gt;&gt;&gt; s.value_counts(dropna=False)\n",
              "3.0    2\n",
              "1.0    1\n",
              "2.0    1\n",
              "4.0    1\n",
              "NaN    1\n",
              "Name: count, dtype: int64</pre>\n",
              "      <script>\n",
              "      if (google.colab.kernel.accessAllowed && google.colab.files && google.colab.files.view) {\n",
              "        for (const element of document.querySelectorAll('.filepath')) {\n",
              "          element.style.display = 'block'\n",
              "          element.onclick = (event) => {\n",
              "            event.preventDefault();\n",
              "            event.stopPropagation();\n",
              "            google.colab.files.view(element.textContent, 923);\n",
              "          };\n",
              "        }\n",
              "      }\n",
              "      for (const element of document.querySelectorAll('.function-repr-contents')) {\n",
              "        element.onclick = (event) => {\n",
              "          event.preventDefault();\n",
              "          event.stopPropagation();\n",
              "          element.classList.toggle('function-repr-contents-collapsed');\n",
              "        };\n",
              "      }\n",
              "      </script>\n",
              "      </div>"
            ]
          },
          "metadata": {},
          "execution_count": 20
        }
      ]
    },
    {
      "cell_type": "code",
      "source": [
        "df.groupby(\"Age\").count()"
      ],
      "metadata": {
        "colab": {
          "base_uri": "https://localhost:8080/",
          "height": 394
        },
        "id": "eLlkt991Q3uq",
        "outputId": "df861193-e78f-4eb1-a24d-211ad5a99f16"
      },
      "execution_count": 21,
      "outputs": [
        {
          "output_type": "execute_result",
          "data": {
            "text/plain": [
              "     Name  City\n",
              "Age            \n",
              "25      1     1\n",
              "26      1     1\n",
              "27      1     1\n",
              "28      1     1\n",
              "29      1     1\n",
              "30      1     1\n",
              "31      1     1\n",
              "32      1     1\n",
              "33      1     1\n",
              "35      1     1"
            ],
            "text/html": [
              "\n",
              "  <div id=\"df-c060a81d-5f8c-4121-ba74-a16d94e0eac7\" class=\"colab-df-container\">\n",
              "    <div>\n",
              "<style scoped>\n",
              "    .dataframe tbody tr th:only-of-type {\n",
              "        vertical-align: middle;\n",
              "    }\n",
              "\n",
              "    .dataframe tbody tr th {\n",
              "        vertical-align: top;\n",
              "    }\n",
              "\n",
              "    .dataframe thead th {\n",
              "        text-align: right;\n",
              "    }\n",
              "</style>\n",
              "<table border=\"1\" class=\"dataframe\">\n",
              "  <thead>\n",
              "    <tr style=\"text-align: right;\">\n",
              "      <th></th>\n",
              "      <th>Name</th>\n",
              "      <th>City</th>\n",
              "    </tr>\n",
              "    <tr>\n",
              "      <th>Age</th>\n",
              "      <th></th>\n",
              "      <th></th>\n",
              "    </tr>\n",
              "  </thead>\n",
              "  <tbody>\n",
              "    <tr>\n",
              "      <th>25</th>\n",
              "      <td>1</td>\n",
              "      <td>1</td>\n",
              "    </tr>\n",
              "    <tr>\n",
              "      <th>26</th>\n",
              "      <td>1</td>\n",
              "      <td>1</td>\n",
              "    </tr>\n",
              "    <tr>\n",
              "      <th>27</th>\n",
              "      <td>1</td>\n",
              "      <td>1</td>\n",
              "    </tr>\n",
              "    <tr>\n",
              "      <th>28</th>\n",
              "      <td>1</td>\n",
              "      <td>1</td>\n",
              "    </tr>\n",
              "    <tr>\n",
              "      <th>29</th>\n",
              "      <td>1</td>\n",
              "      <td>1</td>\n",
              "    </tr>\n",
              "    <tr>\n",
              "      <th>30</th>\n",
              "      <td>1</td>\n",
              "      <td>1</td>\n",
              "    </tr>\n",
              "    <tr>\n",
              "      <th>31</th>\n",
              "      <td>1</td>\n",
              "      <td>1</td>\n",
              "    </tr>\n",
              "    <tr>\n",
              "      <th>32</th>\n",
              "      <td>1</td>\n",
              "      <td>1</td>\n",
              "    </tr>\n",
              "    <tr>\n",
              "      <th>33</th>\n",
              "      <td>1</td>\n",
              "      <td>1</td>\n",
              "    </tr>\n",
              "    <tr>\n",
              "      <th>35</th>\n",
              "      <td>1</td>\n",
              "      <td>1</td>\n",
              "    </tr>\n",
              "  </tbody>\n",
              "</table>\n",
              "</div>\n",
              "    <div class=\"colab-df-buttons\">\n",
              "\n",
              "  <div class=\"colab-df-container\">\n",
              "    <button class=\"colab-df-convert\" onclick=\"convertToInteractive('df-c060a81d-5f8c-4121-ba74-a16d94e0eac7')\"\n",
              "            title=\"Convert this dataframe to an interactive table.\"\n",
              "            style=\"display:none;\">\n",
              "\n",
              "  <svg xmlns=\"http://www.w3.org/2000/svg\" height=\"24px\" viewBox=\"0 -960 960 960\">\n",
              "    <path d=\"M120-120v-720h720v720H120Zm60-500h600v-160H180v160Zm220 220h160v-160H400v160Zm0 220h160v-160H400v160ZM180-400h160v-160H180v160Zm440 0h160v-160H620v160ZM180-180h160v-160H180v160Zm440 0h160v-160H620v160Z\"/>\n",
              "  </svg>\n",
              "    </button>\n",
              "\n",
              "  <style>\n",
              "    .colab-df-container {\n",
              "      display:flex;\n",
              "      gap: 12px;\n",
              "    }\n",
              "\n",
              "    .colab-df-convert {\n",
              "      background-color: #E8F0FE;\n",
              "      border: none;\n",
              "      border-radius: 50%;\n",
              "      cursor: pointer;\n",
              "      display: none;\n",
              "      fill: #1967D2;\n",
              "      height: 32px;\n",
              "      padding: 0 0 0 0;\n",
              "      width: 32px;\n",
              "    }\n",
              "\n",
              "    .colab-df-convert:hover {\n",
              "      background-color: #E2EBFA;\n",
              "      box-shadow: 0px 1px 2px rgba(60, 64, 67, 0.3), 0px 1px 3px 1px rgba(60, 64, 67, 0.15);\n",
              "      fill: #174EA6;\n",
              "    }\n",
              "\n",
              "    .colab-df-buttons div {\n",
              "      margin-bottom: 4px;\n",
              "    }\n",
              "\n",
              "    [theme=dark] .colab-df-convert {\n",
              "      background-color: #3B4455;\n",
              "      fill: #D2E3FC;\n",
              "    }\n",
              "\n",
              "    [theme=dark] .colab-df-convert:hover {\n",
              "      background-color: #434B5C;\n",
              "      box-shadow: 0px 1px 3px 1px rgba(0, 0, 0, 0.15);\n",
              "      filter: drop-shadow(0px 1px 2px rgba(0, 0, 0, 0.3));\n",
              "      fill: #FFFFFF;\n",
              "    }\n",
              "  </style>\n",
              "\n",
              "    <script>\n",
              "      const buttonEl =\n",
              "        document.querySelector('#df-c060a81d-5f8c-4121-ba74-a16d94e0eac7 button.colab-df-convert');\n",
              "      buttonEl.style.display =\n",
              "        google.colab.kernel.accessAllowed ? 'block' : 'none';\n",
              "\n",
              "      async function convertToInteractive(key) {\n",
              "        const element = document.querySelector('#df-c060a81d-5f8c-4121-ba74-a16d94e0eac7');\n",
              "        const dataTable =\n",
              "          await google.colab.kernel.invokeFunction('convertToInteractive',\n",
              "                                                    [key], {});\n",
              "        if (!dataTable) return;\n",
              "\n",
              "        const docLinkHtml = 'Like what you see? Visit the ' +\n",
              "          '<a target=\"_blank\" href=https://colab.research.google.com/notebooks/data_table.ipynb>data table notebook</a>'\n",
              "          + ' to learn more about interactive tables.';\n",
              "        element.innerHTML = '';\n",
              "        dataTable['output_type'] = 'display_data';\n",
              "        await google.colab.output.renderOutput(dataTable, element);\n",
              "        const docLink = document.createElement('div');\n",
              "        docLink.innerHTML = docLinkHtml;\n",
              "        element.appendChild(docLink);\n",
              "      }\n",
              "    </script>\n",
              "  </div>\n",
              "\n",
              "\n",
              "<div id=\"df-0a118a0a-d986-4143-bb7f-03761828fd68\">\n",
              "  <button class=\"colab-df-quickchart\" onclick=\"quickchart('df-0a118a0a-d986-4143-bb7f-03761828fd68')\"\n",
              "            title=\"Suggest charts\"\n",
              "            style=\"display:none;\">\n",
              "\n",
              "<svg xmlns=\"http://www.w3.org/2000/svg\" height=\"24px\"viewBox=\"0 0 24 24\"\n",
              "     width=\"24px\">\n",
              "    <g>\n",
              "        <path d=\"M19 3H5c-1.1 0-2 .9-2 2v14c0 1.1.9 2 2 2h14c1.1 0 2-.9 2-2V5c0-1.1-.9-2-2-2zM9 17H7v-7h2v7zm4 0h-2V7h2v10zm4 0h-2v-4h2v4z\"/>\n",
              "    </g>\n",
              "</svg>\n",
              "  </button>\n",
              "\n",
              "<style>\n",
              "  .colab-df-quickchart {\n",
              "      --bg-color: #E8F0FE;\n",
              "      --fill-color: #1967D2;\n",
              "      --hover-bg-color: #E2EBFA;\n",
              "      --hover-fill-color: #174EA6;\n",
              "      --disabled-fill-color: #AAA;\n",
              "      --disabled-bg-color: #DDD;\n",
              "  }\n",
              "\n",
              "  [theme=dark] .colab-df-quickchart {\n",
              "      --bg-color: #3B4455;\n",
              "      --fill-color: #D2E3FC;\n",
              "      --hover-bg-color: #434B5C;\n",
              "      --hover-fill-color: #FFFFFF;\n",
              "      --disabled-bg-color: #3B4455;\n",
              "      --disabled-fill-color: #666;\n",
              "  }\n",
              "\n",
              "  .colab-df-quickchart {\n",
              "    background-color: var(--bg-color);\n",
              "    border: none;\n",
              "    border-radius: 50%;\n",
              "    cursor: pointer;\n",
              "    display: none;\n",
              "    fill: var(--fill-color);\n",
              "    height: 32px;\n",
              "    padding: 0;\n",
              "    width: 32px;\n",
              "  }\n",
              "\n",
              "  .colab-df-quickchart:hover {\n",
              "    background-color: var(--hover-bg-color);\n",
              "    box-shadow: 0 1px 2px rgba(60, 64, 67, 0.3), 0 1px 3px 1px rgba(60, 64, 67, 0.15);\n",
              "    fill: var(--button-hover-fill-color);\n",
              "  }\n",
              "\n",
              "  .colab-df-quickchart-complete:disabled,\n",
              "  .colab-df-quickchart-complete:disabled:hover {\n",
              "    background-color: var(--disabled-bg-color);\n",
              "    fill: var(--disabled-fill-color);\n",
              "    box-shadow: none;\n",
              "  }\n",
              "\n",
              "  .colab-df-spinner {\n",
              "    border: 2px solid var(--fill-color);\n",
              "    border-color: transparent;\n",
              "    border-bottom-color: var(--fill-color);\n",
              "    animation:\n",
              "      spin 1s steps(1) infinite;\n",
              "  }\n",
              "\n",
              "  @keyframes spin {\n",
              "    0% {\n",
              "      border-color: transparent;\n",
              "      border-bottom-color: var(--fill-color);\n",
              "      border-left-color: var(--fill-color);\n",
              "    }\n",
              "    20% {\n",
              "      border-color: transparent;\n",
              "      border-left-color: var(--fill-color);\n",
              "      border-top-color: var(--fill-color);\n",
              "    }\n",
              "    30% {\n",
              "      border-color: transparent;\n",
              "      border-left-color: var(--fill-color);\n",
              "      border-top-color: var(--fill-color);\n",
              "      border-right-color: var(--fill-color);\n",
              "    }\n",
              "    40% {\n",
              "      border-color: transparent;\n",
              "      border-right-color: var(--fill-color);\n",
              "      border-top-color: var(--fill-color);\n",
              "    }\n",
              "    60% {\n",
              "      border-color: transparent;\n",
              "      border-right-color: var(--fill-color);\n",
              "    }\n",
              "    80% {\n",
              "      border-color: transparent;\n",
              "      border-right-color: var(--fill-color);\n",
              "      border-bottom-color: var(--fill-color);\n",
              "    }\n",
              "    90% {\n",
              "      border-color: transparent;\n",
              "      border-bottom-color: var(--fill-color);\n",
              "    }\n",
              "  }\n",
              "</style>\n",
              "\n",
              "  <script>\n",
              "    async function quickchart(key) {\n",
              "      const quickchartButtonEl =\n",
              "        document.querySelector('#' + key + ' button');\n",
              "      quickchartButtonEl.disabled = true;  // To prevent multiple clicks.\n",
              "      quickchartButtonEl.classList.add('colab-df-spinner');\n",
              "      try {\n",
              "        const charts = await google.colab.kernel.invokeFunction(\n",
              "            'suggestCharts', [key], {});\n",
              "      } catch (error) {\n",
              "        console.error('Error during call to suggestCharts:', error);\n",
              "      }\n",
              "      quickchartButtonEl.classList.remove('colab-df-spinner');\n",
              "      quickchartButtonEl.classList.add('colab-df-quickchart-complete');\n",
              "    }\n",
              "    (() => {\n",
              "      let quickchartButtonEl =\n",
              "        document.querySelector('#df-0a118a0a-d986-4143-bb7f-03761828fd68 button');\n",
              "      quickchartButtonEl.style.display =\n",
              "        google.colab.kernel.accessAllowed ? 'block' : 'none';\n",
              "    })();\n",
              "  </script>\n",
              "</div>\n",
              "\n",
              "    </div>\n",
              "  </div>\n"
            ],
            "application/vnd.google.colaboratory.intrinsic+json": {
              "type": "dataframe",
              "summary": "{\n  \"name\": \"df\",\n  \"rows\": 10,\n  \"fields\": [\n    {\n      \"column\": \"Age\",\n      \"properties\": {\n        \"dtype\": \"number\",\n        \"std\": 3,\n        \"min\": 25,\n        \"max\": 35,\n        \"num_unique_values\": 10,\n        \"samples\": [\n          33,\n          26,\n          30\n        ],\n        \"semantic_type\": \"\",\n        \"description\": \"\"\n      }\n    },\n    {\n      \"column\": \"Name\",\n      \"properties\": {\n        \"dtype\": \"number\",\n        \"std\": 0,\n        \"min\": 1,\n        \"max\": 1,\n        \"num_unique_values\": 1,\n        \"samples\": [\n          1\n        ],\n        \"semantic_type\": \"\",\n        \"description\": \"\"\n      }\n    },\n    {\n      \"column\": \"City\",\n      \"properties\": {\n        \"dtype\": \"number\",\n        \"std\": 0,\n        \"min\": 1,\n        \"max\": 1,\n        \"num_unique_values\": 1,\n        \"samples\": [\n          1\n        ],\n        \"semantic_type\": \"\",\n        \"description\": \"\"\n      }\n    }\n  ]\n}"
            }
          },
          "metadata": {},
          "execution_count": 21
        }
      ]
    },
    {
      "cell_type": "code",
      "source": [
        "df.groupby(\"Age\").Name.nunique()"
      ],
      "metadata": {
        "colab": {
          "base_uri": "https://localhost:8080/",
          "height": 429
        },
        "id": "qipCJOHDRASa",
        "outputId": "82c2009e-531a-405a-e63b-8661627a6b70"
      },
      "execution_count": 22,
      "outputs": [
        {
          "output_type": "execute_result",
          "data": {
            "text/plain": [
              "Age\n",
              "25    1\n",
              "26    1\n",
              "27    1\n",
              "28    1\n",
              "29    1\n",
              "30    1\n",
              "31    1\n",
              "32    1\n",
              "33    1\n",
              "35    1\n",
              "Name: Name, dtype: int64"
            ],
            "text/html": [
              "<div>\n",
              "<style scoped>\n",
              "    .dataframe tbody tr th:only-of-type {\n",
              "        vertical-align: middle;\n",
              "    }\n",
              "\n",
              "    .dataframe tbody tr th {\n",
              "        vertical-align: top;\n",
              "    }\n",
              "\n",
              "    .dataframe thead th {\n",
              "        text-align: right;\n",
              "    }\n",
              "</style>\n",
              "<table border=\"1\" class=\"dataframe\">\n",
              "  <thead>\n",
              "    <tr style=\"text-align: right;\">\n",
              "      <th></th>\n",
              "      <th>Name</th>\n",
              "    </tr>\n",
              "    <tr>\n",
              "      <th>Age</th>\n",
              "      <th></th>\n",
              "    </tr>\n",
              "  </thead>\n",
              "  <tbody>\n",
              "    <tr>\n",
              "      <th>25</th>\n",
              "      <td>1</td>\n",
              "    </tr>\n",
              "    <tr>\n",
              "      <th>26</th>\n",
              "      <td>1</td>\n",
              "    </tr>\n",
              "    <tr>\n",
              "      <th>27</th>\n",
              "      <td>1</td>\n",
              "    </tr>\n",
              "    <tr>\n",
              "      <th>28</th>\n",
              "      <td>1</td>\n",
              "    </tr>\n",
              "    <tr>\n",
              "      <th>29</th>\n",
              "      <td>1</td>\n",
              "    </tr>\n",
              "    <tr>\n",
              "      <th>30</th>\n",
              "      <td>1</td>\n",
              "    </tr>\n",
              "    <tr>\n",
              "      <th>31</th>\n",
              "      <td>1</td>\n",
              "    </tr>\n",
              "    <tr>\n",
              "      <th>32</th>\n",
              "      <td>1</td>\n",
              "    </tr>\n",
              "    <tr>\n",
              "      <th>33</th>\n",
              "      <td>1</td>\n",
              "    </tr>\n",
              "    <tr>\n",
              "      <th>35</th>\n",
              "      <td>1</td>\n",
              "    </tr>\n",
              "  </tbody>\n",
              "</table>\n",
              "</div><br><label><b>dtype:</b> int64</label>"
            ]
          },
          "metadata": {},
          "execution_count": 22
        }
      ]
    },
    {
      "cell_type": "code",
      "source": [
        "data = {'state':[\"CA\",\"CA\",\"TX\",\"NC\", \"SC\"],'deaths':[6,11,4,5,9]}\n",
        "df = pd.DataFrame(data)\n",
        "# how many unique death counts are under each of the state\n",
        "df2 = df.groupby('state')['deaths'] \\\n",
        "        .nunique() \\\n",
        "        .to_frame('deaths') \\\n",
        "        .reset_index()\n",
        "df2.head(10)"
      ],
      "metadata": {
        "colab": {
          "base_uri": "https://localhost:8080/",
          "height": 175
        },
        "id": "Pba611G5RC7r",
        "outputId": "d906bb00-507c-4019-b9ac-266f55621eb2"
      },
      "execution_count": 23,
      "outputs": [
        {
          "output_type": "execute_result",
          "data": {
            "text/plain": [
              "  state  deaths\n",
              "0    CA       2\n",
              "1    NC       1\n",
              "2    SC       1\n",
              "3    TX       1"
            ],
            "text/html": [
              "\n",
              "  <div id=\"df-ff5ded12-f3a0-4d8b-964c-7fba31367531\" class=\"colab-df-container\">\n",
              "    <div>\n",
              "<style scoped>\n",
              "    .dataframe tbody tr th:only-of-type {\n",
              "        vertical-align: middle;\n",
              "    }\n",
              "\n",
              "    .dataframe tbody tr th {\n",
              "        vertical-align: top;\n",
              "    }\n",
              "\n",
              "    .dataframe thead th {\n",
              "        text-align: right;\n",
              "    }\n",
              "</style>\n",
              "<table border=\"1\" class=\"dataframe\">\n",
              "  <thead>\n",
              "    <tr style=\"text-align: right;\">\n",
              "      <th></th>\n",
              "      <th>state</th>\n",
              "      <th>deaths</th>\n",
              "    </tr>\n",
              "  </thead>\n",
              "  <tbody>\n",
              "    <tr>\n",
              "      <th>0</th>\n",
              "      <td>CA</td>\n",
              "      <td>2</td>\n",
              "    </tr>\n",
              "    <tr>\n",
              "      <th>1</th>\n",
              "      <td>NC</td>\n",
              "      <td>1</td>\n",
              "    </tr>\n",
              "    <tr>\n",
              "      <th>2</th>\n",
              "      <td>SC</td>\n",
              "      <td>1</td>\n",
              "    </tr>\n",
              "    <tr>\n",
              "      <th>3</th>\n",
              "      <td>TX</td>\n",
              "      <td>1</td>\n",
              "    </tr>\n",
              "  </tbody>\n",
              "</table>\n",
              "</div>\n",
              "    <div class=\"colab-df-buttons\">\n",
              "\n",
              "  <div class=\"colab-df-container\">\n",
              "    <button class=\"colab-df-convert\" onclick=\"convertToInteractive('df-ff5ded12-f3a0-4d8b-964c-7fba31367531')\"\n",
              "            title=\"Convert this dataframe to an interactive table.\"\n",
              "            style=\"display:none;\">\n",
              "\n",
              "  <svg xmlns=\"http://www.w3.org/2000/svg\" height=\"24px\" viewBox=\"0 -960 960 960\">\n",
              "    <path d=\"M120-120v-720h720v720H120Zm60-500h600v-160H180v160Zm220 220h160v-160H400v160Zm0 220h160v-160H400v160ZM180-400h160v-160H180v160Zm440 0h160v-160H620v160ZM180-180h160v-160H180v160Zm440 0h160v-160H620v160Z\"/>\n",
              "  </svg>\n",
              "    </button>\n",
              "\n",
              "  <style>\n",
              "    .colab-df-container {\n",
              "      display:flex;\n",
              "      gap: 12px;\n",
              "    }\n",
              "\n",
              "    .colab-df-convert {\n",
              "      background-color: #E8F0FE;\n",
              "      border: none;\n",
              "      border-radius: 50%;\n",
              "      cursor: pointer;\n",
              "      display: none;\n",
              "      fill: #1967D2;\n",
              "      height: 32px;\n",
              "      padding: 0 0 0 0;\n",
              "      width: 32px;\n",
              "    }\n",
              "\n",
              "    .colab-df-convert:hover {\n",
              "      background-color: #E2EBFA;\n",
              "      box-shadow: 0px 1px 2px rgba(60, 64, 67, 0.3), 0px 1px 3px 1px rgba(60, 64, 67, 0.15);\n",
              "      fill: #174EA6;\n",
              "    }\n",
              "\n",
              "    .colab-df-buttons div {\n",
              "      margin-bottom: 4px;\n",
              "    }\n",
              "\n",
              "    [theme=dark] .colab-df-convert {\n",
              "      background-color: #3B4455;\n",
              "      fill: #D2E3FC;\n",
              "    }\n",
              "\n",
              "    [theme=dark] .colab-df-convert:hover {\n",
              "      background-color: #434B5C;\n",
              "      box-shadow: 0px 1px 3px 1px rgba(0, 0, 0, 0.15);\n",
              "      filter: drop-shadow(0px 1px 2px rgba(0, 0, 0, 0.3));\n",
              "      fill: #FFFFFF;\n",
              "    }\n",
              "  </style>\n",
              "\n",
              "    <script>\n",
              "      const buttonEl =\n",
              "        document.querySelector('#df-ff5ded12-f3a0-4d8b-964c-7fba31367531 button.colab-df-convert');\n",
              "      buttonEl.style.display =\n",
              "        google.colab.kernel.accessAllowed ? 'block' : 'none';\n",
              "\n",
              "      async function convertToInteractive(key) {\n",
              "        const element = document.querySelector('#df-ff5ded12-f3a0-4d8b-964c-7fba31367531');\n",
              "        const dataTable =\n",
              "          await google.colab.kernel.invokeFunction('convertToInteractive',\n",
              "                                                    [key], {});\n",
              "        if (!dataTable) return;\n",
              "\n",
              "        const docLinkHtml = 'Like what you see? Visit the ' +\n",
              "          '<a target=\"_blank\" href=https://colab.research.google.com/notebooks/data_table.ipynb>data table notebook</a>'\n",
              "          + ' to learn more about interactive tables.';\n",
              "        element.innerHTML = '';\n",
              "        dataTable['output_type'] = 'display_data';\n",
              "        await google.colab.output.renderOutput(dataTable, element);\n",
              "        const docLink = document.createElement('div');\n",
              "        docLink.innerHTML = docLinkHtml;\n",
              "        element.appendChild(docLink);\n",
              "      }\n",
              "    </script>\n",
              "  </div>\n",
              "\n",
              "\n",
              "<div id=\"df-4fa1e14c-72ff-48e7-9ac8-8e690326cbc3\">\n",
              "  <button class=\"colab-df-quickchart\" onclick=\"quickchart('df-4fa1e14c-72ff-48e7-9ac8-8e690326cbc3')\"\n",
              "            title=\"Suggest charts\"\n",
              "            style=\"display:none;\">\n",
              "\n",
              "<svg xmlns=\"http://www.w3.org/2000/svg\" height=\"24px\"viewBox=\"0 0 24 24\"\n",
              "     width=\"24px\">\n",
              "    <g>\n",
              "        <path d=\"M19 3H5c-1.1 0-2 .9-2 2v14c0 1.1.9 2 2 2h14c1.1 0 2-.9 2-2V5c0-1.1-.9-2-2-2zM9 17H7v-7h2v7zm4 0h-2V7h2v10zm4 0h-2v-4h2v4z\"/>\n",
              "    </g>\n",
              "</svg>\n",
              "  </button>\n",
              "\n",
              "<style>\n",
              "  .colab-df-quickchart {\n",
              "      --bg-color: #E8F0FE;\n",
              "      --fill-color: #1967D2;\n",
              "      --hover-bg-color: #E2EBFA;\n",
              "      --hover-fill-color: #174EA6;\n",
              "      --disabled-fill-color: #AAA;\n",
              "      --disabled-bg-color: #DDD;\n",
              "  }\n",
              "\n",
              "  [theme=dark] .colab-df-quickchart {\n",
              "      --bg-color: #3B4455;\n",
              "      --fill-color: #D2E3FC;\n",
              "      --hover-bg-color: #434B5C;\n",
              "      --hover-fill-color: #FFFFFF;\n",
              "      --disabled-bg-color: #3B4455;\n",
              "      --disabled-fill-color: #666;\n",
              "  }\n",
              "\n",
              "  .colab-df-quickchart {\n",
              "    background-color: var(--bg-color);\n",
              "    border: none;\n",
              "    border-radius: 50%;\n",
              "    cursor: pointer;\n",
              "    display: none;\n",
              "    fill: var(--fill-color);\n",
              "    height: 32px;\n",
              "    padding: 0;\n",
              "    width: 32px;\n",
              "  }\n",
              "\n",
              "  .colab-df-quickchart:hover {\n",
              "    background-color: var(--hover-bg-color);\n",
              "    box-shadow: 0 1px 2px rgba(60, 64, 67, 0.3), 0 1px 3px 1px rgba(60, 64, 67, 0.15);\n",
              "    fill: var(--button-hover-fill-color);\n",
              "  }\n",
              "\n",
              "  .colab-df-quickchart-complete:disabled,\n",
              "  .colab-df-quickchart-complete:disabled:hover {\n",
              "    background-color: var(--disabled-bg-color);\n",
              "    fill: var(--disabled-fill-color);\n",
              "    box-shadow: none;\n",
              "  }\n",
              "\n",
              "  .colab-df-spinner {\n",
              "    border: 2px solid var(--fill-color);\n",
              "    border-color: transparent;\n",
              "    border-bottom-color: var(--fill-color);\n",
              "    animation:\n",
              "      spin 1s steps(1) infinite;\n",
              "  }\n",
              "\n",
              "  @keyframes spin {\n",
              "    0% {\n",
              "      border-color: transparent;\n",
              "      border-bottom-color: var(--fill-color);\n",
              "      border-left-color: var(--fill-color);\n",
              "    }\n",
              "    20% {\n",
              "      border-color: transparent;\n",
              "      border-left-color: var(--fill-color);\n",
              "      border-top-color: var(--fill-color);\n",
              "    }\n",
              "    30% {\n",
              "      border-color: transparent;\n",
              "      border-left-color: var(--fill-color);\n",
              "      border-top-color: var(--fill-color);\n",
              "      border-right-color: var(--fill-color);\n",
              "    }\n",
              "    40% {\n",
              "      border-color: transparent;\n",
              "      border-right-color: var(--fill-color);\n",
              "      border-top-color: var(--fill-color);\n",
              "    }\n",
              "    60% {\n",
              "      border-color: transparent;\n",
              "      border-right-color: var(--fill-color);\n",
              "    }\n",
              "    80% {\n",
              "      border-color: transparent;\n",
              "      border-right-color: var(--fill-color);\n",
              "      border-bottom-color: var(--fill-color);\n",
              "    }\n",
              "    90% {\n",
              "      border-color: transparent;\n",
              "      border-bottom-color: var(--fill-color);\n",
              "    }\n",
              "  }\n",
              "</style>\n",
              "\n",
              "  <script>\n",
              "    async function quickchart(key) {\n",
              "      const quickchartButtonEl =\n",
              "        document.querySelector('#' + key + ' button');\n",
              "      quickchartButtonEl.disabled = true;  // To prevent multiple clicks.\n",
              "      quickchartButtonEl.classList.add('colab-df-spinner');\n",
              "      try {\n",
              "        const charts = await google.colab.kernel.invokeFunction(\n",
              "            'suggestCharts', [key], {});\n",
              "      } catch (error) {\n",
              "        console.error('Error during call to suggestCharts:', error);\n",
              "      }\n",
              "      quickchartButtonEl.classList.remove('colab-df-spinner');\n",
              "      quickchartButtonEl.classList.add('colab-df-quickchart-complete');\n",
              "    }\n",
              "    (() => {\n",
              "      let quickchartButtonEl =\n",
              "        document.querySelector('#df-4fa1e14c-72ff-48e7-9ac8-8e690326cbc3 button');\n",
              "      quickchartButtonEl.style.display =\n",
              "        google.colab.kernel.accessAllowed ? 'block' : 'none';\n",
              "    })();\n",
              "  </script>\n",
              "</div>\n",
              "\n",
              "    </div>\n",
              "  </div>\n"
            ],
            "application/vnd.google.colaboratory.intrinsic+json": {
              "type": "dataframe",
              "variable_name": "df2",
              "summary": "{\n  \"name\": \"df2\",\n  \"rows\": 4,\n  \"fields\": [\n    {\n      \"column\": \"state\",\n      \"properties\": {\n        \"dtype\": \"string\",\n        \"num_unique_values\": 4,\n        \"samples\": [\n          \"NC\",\n          \"TX\",\n          \"CA\"\n        ],\n        \"semantic_type\": \"\",\n        \"description\": \"\"\n      }\n    },\n    {\n      \"column\": \"deaths\",\n      \"properties\": {\n        \"dtype\": \"number\",\n        \"std\": 0,\n        \"min\": 1,\n        \"max\": 2,\n        \"num_unique_values\": 2,\n        \"samples\": [\n          1,\n          2\n        ],\n        \"semantic_type\": \"\",\n        \"description\": \"\"\n      }\n    }\n  ]\n}"
            }
          },
          "metadata": {},
          "execution_count": 23
        }
      ]
    },
    {
      "cell_type": "code",
      "source": [
        "import os\n",
        "\n",
        "# directory name that may exist in current directory\n",
        "directory = \"sample_data\"\n",
        "\n",
        "# file name that may exist in current directory\n",
        "file_name = \"anscombe.json\"\n",
        "\n",
        "# returns True if dir exists\n",
        "print(\"is dir? \" + str(os.path.isdir(directory)))\n",
        "\n",
        "# returns True if file_name exists\n",
        "print(\"is file? \" + str(os.path.isfile(file_name)))\n",
        "\n",
        "# returns True (if dir is either file name or directory name that exists)\n",
        "print(\"does it exist? \" + str(os.path.exists(directory)))\n",
        "\n",
        "if os.path.isfile(file_name):\n",
        "\n",
        "   # returns the size of a file without opening it.\n",
        "   print(\"file size: \" + str(os.path.getsize(file_name)))\n",
        "else:\n",
        "   print(\"not a file to calculate size\")\n",
        "\n",
        "print(\"GET THREE DIFFERENT TYPE OF PATHS\")\n",
        "\n",
        "# declare file path\n",
        "path_file = \"/content/sample_data\"\n",
        "\n",
        "# return basename of path (outputs \"data.txt\")\n",
        "print(os.path.basename(path_file))\n",
        "\n",
        "# return directory name of a path\n",
        "# output -> \"/Users/lenin/Downloads\"\n",
        "print(os.path.dirname(path_file))\n",
        "\n",
        "# return absolute path of a file\n",
        "# output -> \"/Users/lenin/Downloads/data.txt\"\n",
        "print(os.path.abspath(path_file))"
      ],
      "metadata": {
        "colab": {
          "base_uri": "https://localhost:8080/"
        },
        "id": "FtwnO_vyTHyY",
        "outputId": "e34406f2-4991-49a6-9080-b10e53fb6db7"
      },
      "execution_count": 26,
      "outputs": [
        {
          "output_type": "stream",
          "name": "stdout",
          "text": [
            "is dir? True\n",
            "is file? False\n",
            "does it exist? True\n",
            "not a file to calculate size\n",
            "GET THREE DIFFERENT TYPE OF PATHS\n",
            "sample_data\n",
            "/content\n",
            "/content/sample_data\n"
          ]
        }
      ]
    },
    {
      "cell_type": "code",
      "source": [
        "lst_files = os.listdir('/content/sample_data')\n",
        "print(lst_files)"
      ],
      "metadata": {
        "colab": {
          "base_uri": "https://localhost:8080/"
        },
        "id": "pEa1tb5lTNGh",
        "outputId": "6583e9a0-63be-438b-d186-ac132414d097"
      },
      "execution_count": 27,
      "outputs": [
        {
          "output_type": "stream",
          "name": "stdout",
          "text": [
            "['README.md', 'anscombe.json', 'mnist_train_small.csv', 'california_housing_train.csv', 'california_housing_test.csv', 'mnist_test.csv']\n"
          ]
        }
      ]
    },
    {
      "cell_type": "code",
      "source": [
        "# run terminal command \"ls -ltr\"\n",
        "str_list_files = os.popen(\"ls -ltr\").read() # This will run the command and return any output\n",
        "print(str_list_files)\n",
        "# prints \"str\"\n",
        "print(type(str_list_files))"
      ],
      "metadata": {
        "colab": {
          "base_uri": "https://localhost:8080/"
        },
        "id": "OQ4V1dgCTQ4w",
        "outputId": "df42c609-b1ef-424a-b6e3-e435baa4ac6f"
      },
      "execution_count": 28,
      "outputs": [
        {
          "output_type": "stream",
          "name": "stdout",
          "text": [
            "total 4\n",
            "drwxr-xr-x 1 root root 4096 Aug 27 13:23 sample_data\n",
            "\n",
            "<class 'str'>\n"
          ]
        }
      ]
    },
    {
      "cell_type": "code",
      "source": [
        "\n",
        "\"\"\"JavaScript Object Notation (JSON)\n",
        "Standard text-based format for representing structured data based on JavaScript object syntax. It is interchangeable between programming languages as it is just a representation of Example JSON file content\"\"\"\n",
        "\n",
        "# Dict to JSON example one\n",
        "import json\n",
        "# dictionary data to convert as a JSON object\n",
        "dict_pets = {1: 'dog', 2: 'cat',\n",
        "            3: 'horse', 4: 'elephant',\n",
        "            5: 'tiger'}\n",
        "# prints \"dict\"\n",
        "print(type(dict_pets))\n",
        "# save as JSON object\n",
        "js_data = json.dumps(dict_pets)\n",
        "# prints \"dict\"\n",
        "print(type(dict_pets))\n",
        "# prints with '' for key-value (wrong json)\n",
        "print(dict_pets)\n",
        "# prints with \"\" for key-value (correct json)\n",
        "print(js_data)\n"
      ],
      "metadata": {
        "colab": {
          "base_uri": "https://localhost:8080/"
        },
        "id": "EJNHiW0_TVOZ",
        "outputId": "6719c41b-67e9-476e-d70d-b87d2dda1cf5"
      },
      "execution_count": 29,
      "outputs": [
        {
          "output_type": "stream",
          "name": "stdout",
          "text": [
            "<class 'dict'>\n",
            "<class 'dict'>\n",
            "{1: 'dog', 2: 'cat', 3: 'horse', 4: 'elephant', 5: 'tiger'}\n",
            "{\"1\": \"dog\", \"2\": \"cat\", \"3\": \"horse\", \"4\": \"elephant\", \"5\": \"tiger\"}\n"
          ]
        }
      ]
    },
    {
      "cell_type": "code",
      "source": [
        "\n",
        "# Dict to JSON example two\n",
        "import json\n",
        "\n",
        "dict_data = {}\n",
        "# insert a empty list into the dictionary\n",
        "dict_data['pet'] = []\n",
        "# append/add a list of dict to the list\n",
        "dict_data['pet'].append({\n",
        "   'name': 'Dog',\n",
        "   'website': 'dog.com',\n",
        "   'from': 'San Francisco'\n",
        "})\n",
        "dict_data['pet'].append({\n",
        "   'name': 'Cat',\n",
        "   'website': 'hellokitty.com',\n",
        "   'from': 'Seattle'\n",
        "})\n",
        "\n",
        "# variable \"dict_data\" declared on top of this cheat sheet\n",
        "# prints \"dict\"\n",
        "with open('data.json', 'w') as outfile:\n",
        "   # write \"dict_data\" object content to output file as JSON\n",
        "   json.dump(dict_data, outfile)\n"
      ],
      "metadata": {
        "id": "MPcHjYzjTd05"
      },
      "execution_count": 30,
      "outputs": []
    },
    {
      "cell_type": "code",
      "source": [
        "import os\n",
        "import json\n",
        "# json file name with/without path\n",
        "path_in_pet = \"data.json\"\n",
        "# check if file exists\n",
        "if os.path.exists(path_in_pet):\n",
        "   # open in read mode\n",
        "   with open(path_in_pet, 'r') as f:\n",
        "       # read data\n",
        "       dict_data = json.load(f)\n",
        "       # prints dict\n",
        "       print(type(dict_data))\n",
        "       # print content\n",
        "       print(dict_data)\n"
      ],
      "metadata": {
        "colab": {
          "base_uri": "https://localhost:8080/"
        },
        "id": "ORXjkNU8Tf7o",
        "outputId": "638740d6-9d69-4e9e-e3f2-d933ee70d093"
      },
      "execution_count": 31,
      "outputs": [
        {
          "output_type": "stream",
          "name": "stdout",
          "text": [
            "<class 'dict'>\n",
            "{'pet': [{'name': 'Dog', 'website': 'dog.com', 'from': 'San Francisco'}, {'name': 'Cat', 'website': 'hellokitty.com', 'from': 'Seattle'}]}\n"
          ]
        }
      ]
    },
    {
      "cell_type": "code",
      "source": [
        "import pandas as pd\n",
        "\n",
        "# Assuming df is your pandas DataFrame\n",
        "df = pd.DataFrame({'col1': [1.1, 2.2, 3.3]})\n",
        "\n",
        "# Convert 'col1' to int32\n",
        "df = df.astype({'col1': 'int32'})\n",
        "\n",
        "# Print the data types after conversion\n",
        "print(df.dtypes)\n"
      ],
      "metadata": {
        "colab": {
          "base_uri": "https://localhost:8080/"
        },
        "id": "lrgFyt6kTj5y",
        "outputId": "399f1d87-9647-4466-d169-2472bdb87dfd"
      },
      "execution_count": 32,
      "outputs": [
        {
          "output_type": "stream",
          "name": "stdout",
          "text": [
            "col1    int32\n",
            "dtype: object\n"
          ]
        }
      ]
    },
    {
      "cell_type": "code",
      "source": [
        "# int to string\n",
        "age = 20\n",
        "\n",
        "# int to float\n",
        "salary = 10\n",
        "f_salary = float(salary)\n",
        "# float to int\n",
        "salary = 10.11\n",
        "# convert to integer\n",
        "i_salary = int(salary)\n",
        "\n",
        "print(\"age is \" + str(age))\n",
        "print(\"salary is \" + str(salary))\n",
        "print(\"f_salary is \" + str(f_salary))\n",
        "print(\"i_salary is \" + str(i_salary))"
      ],
      "metadata": {
        "colab": {
          "base_uri": "https://localhost:8080/"
        },
        "id": "dsnvsyx2TlZg",
        "outputId": "720f8148-f6d6-4cd5-d230-56314ba78909"
      },
      "execution_count": 33,
      "outputs": [
        {
          "output_type": "stream",
          "name": "stdout",
          "text": [
            "age is 20\n",
            "salary is 10.11\n",
            "f_salary is 10.0\n",
            "i_salary is 10\n"
          ]
        }
      ]
    },
    {
      "cell_type": "code",
      "source": [
        "\n",
        "def to_lowercase(in_str):\n",
        "   return str(in_str).lower()\n",
        "# text to be converted\n",
        "text = \"How may I help you?\"\n",
        "# convert string to lowercase\n",
        "text = to_lowercase(text)\n",
        "print(text)"
      ],
      "metadata": {
        "colab": {
          "base_uri": "https://localhost:8080/"
        },
        "id": "SprGqnDzTrRY",
        "outputId": "3b49f827-b884-4ac4-c76e-dd765c4bb126"
      },
      "execution_count": 36,
      "outputs": [
        {
          "output_type": "stream",
          "name": "stdout",
          "text": [
            "how may i help you?\n"
          ]
        }
      ]
    },
    {
      "cell_type": "code",
      "source": [
        "text = \"This is first line \\nThis is second line\"\n",
        "print(text)\n",
        "# replace new line with blank space\n",
        "text_clean = text.replace(\"\\n\", \"\")\n",
        "print(text_clean)"
      ],
      "metadata": {
        "colab": {
          "base_uri": "https://localhost:8080/"
        },
        "id": "kkzJFaanTorw",
        "outputId": "b78c20a6-654d-4233-feb5-b10655600126"
      },
      "execution_count": 35,
      "outputs": [
        {
          "output_type": "stream",
          "name": "stdout",
          "text": [
            "This is first line \n",
            "This is second line\n",
            "This is first line This is second line\n"
          ]
        }
      ]
    },
    {
      "cell_type": "code",
      "source": [
        "import re\n",
        "in_str = \"Hi, How may I help you?\"\n",
        "str_clean = re.sub(r'\\W+', ' ', in_str)\n",
        "# prints -> Hi Where are you from\n",
        "print(str_clean)\n"
      ],
      "metadata": {
        "colab": {
          "base_uri": "https://localhost:8080/"
        },
        "id": "s1-JPZNLT66H",
        "outputId": "542e2fed-1cda-4e0f-97aa-f2b5728e89e8"
      },
      "execution_count": 37,
      "outputs": [
        {
          "output_type": "stream",
          "name": "stdout",
          "text": [
            "Hi How may I help you \n"
          ]
        }
      ]
    },
    {
      "cell_type": "code",
      "source": [
        "import pandas as pd\n",
        "\n",
        "# Sample DataFrame\n",
        "data = {'name': ['Alice', 'Bob', 'Charlie', 'David'],\n",
        "        'age': [20, 30, 25, 40]}\n",
        "df = pd.DataFrame(data)\n",
        "\n",
        "# Calculate maximum age in the dataframe\n",
        "max_age = df[\"age\"].max()\n",
        "\n",
        "# Normalize age and create a new column\n",
        "df[\"age_normalized\"] = df[\"age\"] / max_age\n",
        "\n",
        "# Print the original and normalized DataFrame\n",
        "print(\"Original DataFrame:\")\n",
        "print(df)\n",
        "\n",
        "# Accessing individual values\n",
        "print(\"\\nAccessing individual normalized values:\")\n",
        "for index, row in df.iterrows():\n",
        "    print(f\"Name: {row['name']}, Normalized Age: {row['age_normalized']}\")"
      ],
      "metadata": {
        "colab": {
          "base_uri": "https://localhost:8080/"
        },
        "id": "QA8--6lkUD0J",
        "outputId": "e1415144-aed9-4e45-83b3-17f9cdf9c9bc"
      },
      "execution_count": 38,
      "outputs": [
        {
          "output_type": "stream",
          "name": "stdout",
          "text": [
            "Original DataFrame:\n",
            "      name  age  age_normalized\n",
            "0    Alice   20           0.500\n",
            "1      Bob   30           0.750\n",
            "2  Charlie   25           0.625\n",
            "3    David   40           1.000\n",
            "\n",
            "Accessing individual normalized values:\n",
            "Name: Alice, Normalized Age: 0.5\n",
            "Name: Bob, Normalized Age: 0.75\n",
            "Name: Charlie, Normalized Age: 0.625\n",
            "Name: David, Normalized Age: 1.0\n"
          ]
        }
      ]
    },
    {
      "cell_type": "code",
      "source": [
        "import pandas as pd\n",
        "from tabulate import tabulate\n",
        "\n",
        "# Function to pretty print DataFrame\n",
        "def pretty_print(title, df, max_rows=None):\n",
        "    print(f\"\\n{title}\\n\")\n",
        "    if max_rows:\n",
        "        print(tabulate(df.head(max_rows), headers='keys', tablefmt='psql'))\n",
        "    else:\n",
        "        print(tabulate(df, headers='keys', tablefmt='psql'))\n",
        "\n",
        "# First DataFrame (df_1)\n",
        "df_1 = pd.DataFrame({\n",
        "    'id': ['A01', 'A02', 'A03', 'A04'],\n",
        "    'Name': ['Dog', 'Cat', 'Eagle', 'Peacock']\n",
        "})\n",
        "\n",
        "# Print df_1\n",
        "pretty_print(\"df_1:\", df_1, 10)\n",
        "\n",
        "# Second DataFrame (df_2)\n",
        "df_2 = pd.DataFrame({\n",
        "    'id': ['A01', 'A06', 'A02', 'A07'],\n",
        "    'City': ['SFO', 'Chennai', 'NYC', 'Bangalore'],\n",
        "    'Age': ['12', '13', '14', '12']\n",
        "})"
      ],
      "metadata": {
        "colab": {
          "base_uri": "https://localhost:8080/"
        },
        "id": "aUuqyI6wUIsf",
        "outputId": "2f680363-54c5-4fd2-dbd0-0507fed130d0"
      },
      "execution_count": 39,
      "outputs": [
        {
          "output_type": "stream",
          "name": "stdout",
          "text": [
            "\n",
            "df_1:\n",
            "\n",
            "+----+------+---------+\n",
            "|    | id   | Name    |\n",
            "|----+------+---------|\n",
            "|  0 | A01  | Dog     |\n",
            "|  1 | A02  | Cat     |\n",
            "|  2 | A03  | Eagle   |\n",
            "|  3 | A04  | Peacock |\n",
            "+----+------+---------+\n"
          ]
        }
      ]
    },
    {
      "cell_type": "code",
      "source": [
        "# Print df_2\n",
        "pretty_print(\"df_2:\", df_2, 10)\n",
        "\n",
        "# Outer join => outputs all rows from both dataframes\n",
        "df_outer = pd.merge(df_1, df_2, on='id', how='outer')\n",
        "pretty_print(\"Merged Outer Join:\", df_outer, 10)\n",
        "\n",
        "# Inner join (equi join) => outputs common intersect\n",
        "df_inner = pd.merge(df_1, df_2, on='id', how='inner')\n",
        "pretty_print(\"Merged Inner Join:\", df_inner, 10)\n",
        "\n",
        "# Merge with different column names\n",
        "df_new = pd.merge(df_1, df_2, left_on='id', right_on='id', how='inner')\n",
        "pretty_print(\"Merged Inner Join (Different Column Names):\", df_new, 10)"
      ],
      "metadata": {
        "colab": {
          "base_uri": "https://localhost:8080/"
        },
        "id": "_M0F6hQWUOfR",
        "outputId": "aa9760ae-7e37-42bb-faea-339cc478a923"
      },
      "execution_count": 40,
      "outputs": [
        {
          "output_type": "stream",
          "name": "stdout",
          "text": [
            "\n",
            "df_2:\n",
            "\n",
            "+----+------+-----------+-------+\n",
            "|    | id   | City      |   Age |\n",
            "|----+------+-----------+-------|\n",
            "|  0 | A01  | SFO       |    12 |\n",
            "|  1 | A06  | Chennai   |    13 |\n",
            "|  2 | A02  | NYC       |    14 |\n",
            "|  3 | A07  | Bangalore |    12 |\n",
            "+----+------+-----------+-------+\n",
            "\n",
            "Merged Outer Join:\n",
            "\n",
            "+----+------+---------+-----------+-------+\n",
            "|    | id   | Name    | City      |   Age |\n",
            "|----+------+---------+-----------+-------|\n",
            "|  0 | A01  | Dog     | SFO       |    12 |\n",
            "|  1 | A02  | Cat     | NYC       |    14 |\n",
            "|  2 | A03  | Eagle   | nan       |   nan |\n",
            "|  3 | A04  | Peacock | nan       |   nan |\n",
            "|  4 | A06  | nan     | Chennai   |    13 |\n",
            "|  5 | A07  | nan     | Bangalore |    12 |\n",
            "+----+------+---------+-----------+-------+\n",
            "\n",
            "Merged Inner Join:\n",
            "\n",
            "+----+------+--------+--------+-------+\n",
            "|    | id   | Name   | City   |   Age |\n",
            "|----+------+--------+--------+-------|\n",
            "|  0 | A01  | Dog    | SFO    |    12 |\n",
            "|  1 | A02  | Cat    | NYC    |    14 |\n",
            "+----+------+--------+--------+-------+\n",
            "\n",
            "Merged Inner Join (Different Column Names):\n",
            "\n",
            "+----+------+--------+--------+-------+\n",
            "|    | id   | Name   | City   |   Age |\n",
            "|----+------+--------+--------+-------|\n",
            "|  0 | A01  | Dog    | SFO    |    12 |\n",
            "|  1 | A02  | Cat    | NYC    |    14 |\n",
            "+----+------+--------+--------+-------+\n"
          ]
        }
      ]
    },
    {
      "cell_type": "code",
      "source": [],
      "metadata": {
        "colab": {
          "base_uri": "https://localhost:8080/"
        },
        "id": "lsgewZgUUTgi",
        "outputId": "afd7595a-e7ec-4e5d-ba43-3dc65cc63792"
      },
      "execution_count": 42,
      "outputs": [
        {
          "output_type": "stream",
          "name": "stdout",
          "text": [
            "\n",
            "df_1:\n",
            "\n",
            "+----+------+---------+\n",
            "|    | id   | Name    |\n",
            "|----+------+---------|\n",
            "|  0 | A01  | Dog     |\n",
            "|  1 | A02  | Cat     |\n",
            "|  2 | A03  | Eagle   |\n",
            "|  3 | A04  | Peacock |\n",
            "+----+------+---------+\n",
            "\n",
            "df_2:\n",
            "\n",
            "+----+------+-----------+-------+\n",
            "|    | id   | City      |   Age |\n",
            "|----+------+-----------+-------|\n",
            "|  0 | A01  | SFO       |    12 |\n",
            "|  1 | A06  | Chennai   |    13 |\n",
            "|  2 | A02  | NYC       |    14 |\n",
            "|  3 | A07  | Bangalore |    12 |\n",
            "+----+------+-----------+-------+\n",
            "\n",
            "left join:\n",
            "\n",
            "+----+------+---------+--------+-------+\n",
            "|    | id   | Name    | City   |   Age |\n",
            "|----+------+---------+--------+-------|\n",
            "|  0 | A01  | Dog     | SFO    |    12 |\n",
            "|  1 | A02  | Cat     | NYC    |    14 |\n",
            "|  2 | A03  | Eagle   | nan    |   nan |\n",
            "|  3 | A04  | Peacock | nan    |   nan |\n",
            "+----+------+---------+--------+-------+\n",
            "\n",
            "rows in df2 which are not in df1:\n",
            "\n",
            "+----+------+---------+--------+-------+\n",
            "|    | id   | Name    |   City |   Age |\n",
            "|----+------+---------+--------+-------|\n",
            "|  2 | A03  | Eagle   |    nan |   nan |\n",
            "|  3 | A04  | Peacock |    nan |   nan |\n",
            "+----+------+---------+--------+-------+\n"
          ]
        }
      ]
    },
    {
      "cell_type": "code",
      "source": [
        "# input file\n",
        "file_name = '/ipf_0307.csv'\n",
        "# read csv file\n",
        "df_in_power = pd.read_csv(file_name)\n",
        "# men only\n",
        "df_state_male = df_in_power.loc[df_in_power['Sex'] == \"M\"]\\\n",
        "                .groupby(['Country'])\\\n",
        "                .size()\\\n",
        "                .to_frame('weight')\\\n",
        "                .reset_index()\n",
        "# sort by count\n",
        "df_sorted = df_state_male\\\n",
        "                .sort_values(by=['weight'], ascending=False)\n",
        "print(df_in_power)\n",
        "#print(df_country) # This line was causing the error\n",
        "print(df_sorted)"
      ],
      "metadata": {
        "colab": {
          "base_uri": "https://localhost:8080/"
        },
        "id": "TVmG3sYEdyG9",
        "outputId": "3c2e84ea-537e-4049-d049-a51077f44ec8"
      },
      "execution_count": 47,
      "outputs": [
        {
          "output_type": "stream",
          "name": "stdout",
          "text": [
            "                     Name Sex Event   Equipment   Age AgeClass BirthYearClass  \\\n",
            "0         Havjinder Kumar   M   SBD  Single-ply   NaN      NaN            NaN   \n",
            "1            Ashoh Kapoor   M   SBD  Single-ply  33.5    24-34          24-39   \n",
            "2            Mehdi Fatemi   M   SBD  Single-ply  32.0    24-34          24-39   \n",
            "3            Jugal Dhawan   M   SBD  Single-ply   NaN      NaN            NaN   \n",
            "4          Francois Kalik   M   SBD  Single-ply  37.5    35-39          24-39   \n",
            "..                    ...  ..   ...         ...   ...      ...            ...   \n",
            "170          Brian Siders   M   SBD  Single-ply  25.0    24-34          24-39   \n",
            "171  Hennis Washington #1   M   SBD  Single-ply  33.0    24-34          24-39   \n",
            "172       Brad Gillingham   M   SBD  Single-ply  37.0    35-39          24-39   \n",
            "173     Anthony Harris #1   M   SBD  Single-ply  39.0    35-39          24-39   \n",
            "174        Ray Benemerito   M   SBD  Single-ply  36.0    35-39          24-39   \n",
            "\n",
            "    Division  BodyweightKg WeightClassKg  ...  Country  State  Federation  \\\n",
            "0       Open        134.95          125+  ...    India    NaN         IPF   \n",
            "1       Open        124.55           125  ...    India    NaN         IPF   \n",
            "2       Open        107.25           110  ...     Iran    NaN         IPF   \n",
            "3       Open        104.65           110  ...    India    NaN         IPF   \n",
            "4       Open         98.55           100  ...   France    NaN         IPF   \n",
            "..       ...           ...           ...  ...      ...    ...         ...   \n",
            "170     Open        148.85          125+  ...      USA    NaN         IPF   \n",
            "171     Open         59.85            60  ...      USA    NaN         IPF   \n",
            "172     Open        148.20          125+  ...      USA    NaN         IPF   \n",
            "173     Open        109.65           110  ...      USA    NaN         IPF   \n",
            "174     Open         89.85            90  ...      USA    NaN         IPF   \n",
            "\n",
            "     ParentFederation        Date  MeetCountry  MeetState  MeetTown  \\\n",
            "0                 IPF  2003-11-04      Denmark        NaN     Vejle   \n",
            "1                 IPF  2003-11-04      Denmark        NaN     Vejle   \n",
            "2                 IPF  2003-11-04      Denmark        NaN     Vejle   \n",
            "3                 IPF  2003-11-04      Denmark        NaN     Vejle   \n",
            "4                 IPF  2003-11-04      Denmark        NaN     Vejle   \n",
            "..                ...         ...          ...        ...       ...   \n",
            "170               IPF  2003-11-04      Denmark        NaN     Vejle   \n",
            "171               IPF  2003-11-04      Denmark        NaN     Vejle   \n",
            "172               IPF  2003-11-04      Denmark        NaN     Vejle   \n",
            "173               IPF  2003-11-04      Denmark        NaN     Vejle   \n",
            "174               IPF  2003-11-04      Denmark        NaN     Vejle   \n",
            "\n",
            "                                   MeetName  Sanctioned  \n",
            "0    Men's World Powerlifting Championships         Yes  \n",
            "1    Men's World Powerlifting Championships         Yes  \n",
            "2    Men's World Powerlifting Championships         Yes  \n",
            "3    Men's World Powerlifting Championships         Yes  \n",
            "4    Men's World Powerlifting Championships         Yes  \n",
            "..                                      ...         ...  \n",
            "170  Men's World Powerlifting Championships         Yes  \n",
            "171  Men's World Powerlifting Championships         Yes  \n",
            "172  Men's World Powerlifting Championships         Yes  \n",
            "173  Men's World Powerlifting Championships         Yes  \n",
            "174  Men's World Powerlifting Championships         Yes  \n",
            "\n",
            "[175 rows x 42 columns]\n",
            "        Country  weight\n",
            "31      Ukraine      11\n",
            "30          USA      11\n",
            "27       Sweden      11\n",
            "26       Russia      11\n",
            "9       Denmark      11\n",
            "20        Japan      10\n",
            "7        Canada      10\n",
            "25       Poland       9\n",
            "13      Germany       9\n",
            "11      Finland       7\n",
            "6      Bulgaria       6\n",
            "24       Norway       6\n",
            "12       France       6\n",
            "14      Hungary       6\n",
            "28       Taiwan       5\n",
            "23  New Zealand       5\n",
            "16        India       5\n",
            "1     Australia       5\n",
            "8       Czechia       5\n",
            "22  Netherlands       4\n",
            "10      England       4\n",
            "18         Iran       3\n",
            "4       Belgium       3\n",
            "2       Austria       3\n",
            "29           UK       2\n",
            "17    Indonesia       1\n",
            "19        Italy       1\n",
            "21   Luxembourg       1\n",
            "15      Iceland       1\n",
            "5        Brazil       1\n",
            "3       Belarus       1\n",
            "0     Argentina       1\n"
          ]
        }
      ]
    },
    {
      "cell_type": "code",
      "source": [],
      "metadata": {
        "id": "E7mhM3AQd077"
      },
      "execution_count": null,
      "outputs": []
    }
  ]
}