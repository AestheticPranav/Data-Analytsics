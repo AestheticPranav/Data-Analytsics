{
  "nbformat": 4,
  "nbformat_minor": 0,
  "metadata": {
    "colab": {
      "provenance": [],
      "mount_file_id": "1FwrCSyhC1Kj63bdDdVydO0NnKYgj88LZ",
      "authorship_tag": "ABX9TyPai7WSGhWfA2G74fZ7ZTNn",
      "include_colab_link": true
    },
    "kernelspec": {
      "name": "python3",
      "display_name": "Python 3"
    },
    "language_info": {
      "name": "python"
    }
  },
  "cells": [
    {
      "cell_type": "markdown",
      "metadata": {
        "id": "view-in-github",
        "colab_type": "text"
      },
      "source": [
        "<a href=\"https://colab.research.google.com/github/AestheticPranav/Data-Analytsics/blob/main/miniproject_uk_crime.ipynb\" target=\"_parent\"><img src=\"https://colab.research.google.com/assets/colab-badge.svg\" alt=\"Open In Colab\"/></a>"
      ]
    },
    {
      "cell_type": "code",
      "execution_count": 1,
      "metadata": {
        "colab": {
          "base_uri": "https://localhost:8080/"
        },
        "id": "YWdl1mig9kfl",
        "outputId": "7d03763b-ddcf-4537-aff4-3986a2c8854e"
      },
      "outputs": [
        {
          "output_type": "stream",
          "name": "stdout",
          "text": [
            "                        Type                       Date  \\\n",
            "0              Person search  2019-07-01T11:45:00+00:00   \n",
            "1  Person and Vehicle search  2019-07-01T13:25:35+00:00   \n",
            "2  Person and Vehicle search  2019-07-01T13:35:48+00:00   \n",
            "3  Person and Vehicle search  2019-07-01T13:39:30+00:00   \n",
            "4              Person search  2019-07-01T19:15:10+00:00   \n",
            "\n",
            "  Part of a policing operation  Policing operation   Latitude  Longitude  \\\n",
            "0                        False                 NaN        NaN        NaN   \n",
            "1                        False                 NaN        NaN        NaN   \n",
            "2                        False                 NaN        NaN        NaN   \n",
            "3                        False                 NaN        NaN        NaN   \n",
            "4                        False                 NaN  52.143801  -0.458665   \n",
            "\n",
            "  Gender Age range                             Self-defined ethnicity  \\\n",
            "0   Male     25-34                    Other ethnic group - Not stated   \n",
            "1   Male     18-24  White - English/Welsh/Scottish/Northern Irish/...   \n",
            "2   Male     25-34  White - English/Welsh/Scottish/Northern Irish/...   \n",
            "3   Male     25-34                 White - Any other White background   \n",
            "4   Male   over 34                 White - Any other White background   \n",
            "\n",
            "  Officer-defined ethnicity  ... Month Reported by Falls within Location  \\\n",
            "0                     Black  ...   NaN         NaN          NaN      NaN   \n",
            "1                     White  ...   NaN         NaN          NaN      NaN   \n",
            "2                     White  ...   NaN         NaN          NaN      NaN   \n",
            "3                     White  ...   NaN         NaN          NaN      NaN   \n",
            "4                     White  ...   NaN         NaN          NaN      NaN   \n",
            "\n",
            "  LSOA code LSOA name Crime type Last outcome category Context Outcome type  \n",
            "0       NaN       NaN        NaN                   NaN     NaN          NaN  \n",
            "1       NaN       NaN        NaN                   NaN     NaN          NaN  \n",
            "2       NaN       NaN        NaN                   NaN     NaN          NaN  \n",
            "3       NaN       NaN        NaN                   NaN     NaN          NaN  \n",
            "4       NaN       NaN        NaN                   NaN     NaN          NaN  \n",
            "\n",
            "[5 rows x 26 columns]\n",
            "<class 'pandas.core.frame.DataFrame'>\n",
            "RangeIndex: 237300 entries, 0 to 237299\n",
            "Data columns (total 26 columns):\n",
            " #   Column                                    Non-Null Count   Dtype  \n",
            "---  ------                                    --------------   -----  \n",
            " 0   Type                                      70928 non-null   object \n",
            " 1   Date                                      70928 non-null   object \n",
            " 2   Part of a policing operation              26712 non-null   object \n",
            " 3   Policing operation                        0 non-null       float64\n",
            " 4   Latitude                                  216004 non-null  float64\n",
            " 5   Longitude                                 216004 non-null  float64\n",
            " 6   Gender                                    68124 non-null   object \n",
            " 7   Age range                                 62844 non-null   object \n",
            " 8   Self-defined ethnicity                    67528 non-null   object \n",
            " 9   Officer-defined ethnicity                 65708 non-null   object \n",
            " 10  Legislation                               67816 non-null   object \n",
            " 11  Object of search                          66312 non-null   object \n",
            " 12  Outcome                                   69140 non-null   object \n",
            " 13  Outcome linked to object of search        44192 non-null   object \n",
            " 14  Removal of more than just outer clothing  55824 non-null   object \n",
            " 15  Crime ID                                  138780 non-null  object \n",
            " 16  Month                                     166372 non-null  object \n",
            " 17  Reported by                               166372 non-null  object \n",
            " 18  Falls within                              166372 non-null  object \n",
            " 19  Location                                  166372 non-null  object \n",
            " 20  LSOA code                                 160640 non-null  object \n",
            " 21  LSOA name                                 160640 non-null  object \n",
            " 22  Crime type                                55432 non-null   object \n",
            " 23  Last outcome category                     27840 non-null   object \n",
            " 24  Context                                   0 non-null       float64\n",
            " 25  Outcome type                              110940 non-null  object \n",
            "dtypes: float64(4), object(22)\n",
            "memory usage: 47.1+ MB\n",
            "None\n",
            "       Policing operation       Latitude      Longitude  Context\n",
            "count                 0.0  216004.000000  216004.000000      0.0\n",
            "mean                  NaN      52.645350      -1.790155      NaN\n",
            "std                   NaN       1.143912       1.851283      NaN\n",
            "min                   NaN      50.111840      -7.673967      NaN\n",
            "25%                   NaN      51.685020      -3.198161      NaN\n",
            "50%                   NaN      52.455030      -2.271858      NaN\n",
            "75%                   NaN      53.402122      -0.105730      NaN\n",
            "max                   NaN      57.479900       1.757344      NaN\n"
          ]
        }
      ],
      "source": [
        "import os\n",
        "import pandas as pd\n",
        "\n",
        "# Folder path containing CSV files\n",
        "folder_path = \"/content/drive/MyDrive/dataset\"\n",
        "\n",
        "# List all CSV files in the folder\n",
        "csv_files = [file for file in os.listdir(folder_path) if file.endswith('.csv')]\n",
        "\n",
        "# Combine all CSV files into a single DataFrame (if structure matches)\n",
        "dataframes = []\n",
        "for file in csv_files:\n",
        "    file_path = os.path.join(folder_path, file)\n",
        "    df = pd.read_csv(file_path)\n",
        "    dataframes.append(df)\n",
        "\n",
        "# Concatenate all dataframes\n",
        "combined_df = pd.concat(dataframes, ignore_index=True)\n",
        "\n",
        "# Display the first few rows\n",
        "print(combined_df.head())\n",
        "\n",
        "# Perform your analysis (e.g., checking columns, summary statistics)\n",
        "print(combined_df.info())\n",
        "print(combined_df.describe())"
      ]
    },
    {
      "cell_type": "markdown",
      "source": [
        "1. Top 10 Type by # events."
      ],
      "metadata": {
        "id": "7FK6mBrO951-"
      }
    },
    {
      "cell_type": "code",
      "source": [
        "\n",
        "if 'Crime type' in combined_df.columns:\n",
        "    crime_type_counts = combined_df['Crime type'].value_counts().reset_index()\n",
        "    crime_type_counts.columns = ['Type', 'Num_Events']\n",
        "\n",
        "    top_10_crime_types = crime_type_counts.head(10)\n",
        "    top_10_crime_types['Rank'] = top_10_crime_types['Num_Events'].rank(ascending=False, method='min').astype(int)\n",
        "    top_10_crime_types = top_10_crime_types[['Rank', 'Type', 'Num_Events']]\n",
        "    print(top_10_crime_types)\n",
        "else:\n",
        "    print(\"Column 'Crime type' does not exist in the dataset.\")\n"
      ],
      "metadata": {
        "colab": {
          "base_uri": "https://localhost:8080/"
        },
        "id": "I75i6NMT_2ku",
        "outputId": "dafdd3bd-050e-4d97-e9a5-12fdee5419e2"
      },
      "execution_count": 11,
      "outputs": [
        {
          "output_type": "stream",
          "name": "stdout",
          "text": [
            "   Rank                          Type  Num_Events\n",
            "0     1  Violence and sexual offences       16068\n",
            "1     2         Anti-social behaviour        6780\n",
            "2     3                  Public order        6428\n",
            "3     4                   Other theft        6216\n",
            "4     5     Criminal damage and arson        4684\n",
            "5     6         Theft from the person        3580\n",
            "6     7                 Bicycle theft        2772\n",
            "7     8                   Shoplifting        2564\n",
            "8     9                         Drugs        2132\n",
            "9    10                      Burglary        1320\n"
          ]
        },
        {
          "output_type": "stream",
          "name": "stderr",
          "text": [
            "<ipython-input-11-8a766d78db0f>:6: SettingWithCopyWarning: \n",
            "A value is trying to be set on a copy of a slice from a DataFrame.\n",
            "Try using .loc[row_indexer,col_indexer] = value instead\n",
            "\n",
            "See the caveats in the documentation: https://pandas.pydata.org/pandas-docs/stable/user_guide/indexing.html#returning-a-view-versus-a-copy\n",
            "  top_10_crime_types['Rank'] = top_10_crime_types['Num_Events'].rank(ascending=False, method='min').astype(int)\n"
          ]
        }
      ]
    },
    {
      "cell_type": "markdown",
      "source": [],
      "metadata": {
        "id": "kmc6DuyoAGGG"
      }
    },
    {
      "cell_type": "markdown",
      "source": [],
      "metadata": {
        "id": "eI9tkeg7A3Co"
      }
    },
    {
      "cell_type": "markdown",
      "source": [
        "2. Top 10 Ethnicities by Number of Events with Rank"
      ],
      "metadata": {
        "id": "5_xpjsQvA447"
      }
    },
    {
      "cell_type": "code",
      "source": [
        "\n",
        "if 'Officer-defined ethnicity' in combined_df.columns:\n",
        "\n",
        "    ethnicity_counts = combined_df['Officer-defined ethnicity'].value_counts().reset_index()\n",
        "    ethnicity_counts.columns = ['Type', 'Office_Num_Events']\n",
        "\n",
        "\n",
        "    top_10_ethnicities = ethnicity_counts.head(10)\n",
        "\n",
        "\n",
        "    top_10_ethnicities['Office_Ethnic_Rank'] = top_10_ethnicities['Office_Num_Events'].rank(ascending=False, method='min').astype(int)\n",
        "\n",
        "\n",
        "    top_10_ethnicities = top_10_ethnicities[['Office_Ethnic_Rank', 'Type', 'Office_Num_Events']]\n",
        "\n",
        "    print(top_10_ethnicities)\n",
        "else:\n",
        "    print(\"Column 'Officer-defined ethnicity' does not exist in the dataset.\")\n"
      ],
      "metadata": {
        "colab": {
          "base_uri": "https://localhost:8080/"
        },
        "id": "ek0XQgbJAi0j",
        "outputId": "48b1a0aa-4e10-4ac1-c81b-94ba5e26bf7b"
      },
      "execution_count": 13,
      "outputs": [
        {
          "output_type": "stream",
          "name": "stdout",
          "text": [
            "   Office_Ethnic_Rank   Type  Office_Num_Events\n",
            "0                   1  White              54116\n",
            "1                   2  Black               6088\n",
            "2                   3  Asian               3688\n",
            "3                   4  Other               1356\n",
            "4                   5  Mixed                460\n"
          ]
        },
        {
          "output_type": "stream",
          "name": "stderr",
          "text": [
            "<ipython-input-13-308e3cd77e4d>:13: SettingWithCopyWarning: \n",
            "A value is trying to be set on a copy of a slice from a DataFrame.\n",
            "Try using .loc[row_indexer,col_indexer] = value instead\n",
            "\n",
            "See the caveats in the documentation: https://pandas.pydata.org/pandas-docs/stable/user_guide/indexing.html#returning-a-view-versus-a-copy\n",
            "  top_10_ethnicities['Office_Ethnic_Rank'] = top_10_ethnicities['Office_Num_Events'].rank(ascending=False, method='min').astype(int)\n"
          ]
        }
      ]
    },
    {
      "cell_type": "markdown",
      "source": [],
      "metadata": {
        "id": "DXhb6fam_lGo"
      }
    }
  ]
}